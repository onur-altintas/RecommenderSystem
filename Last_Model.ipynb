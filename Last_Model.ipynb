{
  "nbformat": 4,
  "nbformat_minor": 0,
  "metadata": {
    "colab": {
      "name": "Last Model",
      "provenance": [],
      "toc_visible": true,
      "authorship_tag": "ABX9TyMHdJDX47CLKFPv07tkpcE2",
      "include_colab_link": true
    },
    "kernelspec": {
      "name": "python3",
      "display_name": "Python 3"
    }
  },
  "cells": [
    {
      "cell_type": "markdown",
      "metadata": {
        "id": "view-in-github",
        "colab_type": "text"
      },
      "source": [
        "<a href=\"https://colab.research.google.com/github/onur-altintas/RecommenderSystem/blob/main/Last_Model.ipynb\" target=\"_parent\"><img src=\"https://colab.research.google.com/assets/colab-badge.svg\" alt=\"Open In Colab\"/></a>"
      ]
    },
    {
      "cell_type": "code",
      "metadata": {
        "id": "FU4RC848VF01"
      },
      "source": [
        " import math\n",
        " import operator\n",
        " import pandas as pd"
      ],
      "execution_count": null,
      "outputs": []
    },
    {
      "cell_type": "code",
      "metadata": {
        "id": "fzEzqiNzVIkv"
      },
      "source": [
        "watched = {\n",
        "'User1': {\n",
        "'The Godfather': 5.00, \n",
        "'Yes Man': 4.29,\n",
        "'Apocalypse Now': 5.00, \n",
        "'Jaws': 1.\n",
        "},\n",
        "'User2': {\n",
        "'The Shawshank Redemption': 4.89, \n",
        "'Interstellar': 4.93 , \n",
        "'The Green Mile': 4.87,\n",
        "'The Godfather': 1.33,\n",
        "},\n",
        "'User3': {\n",
        "'Finding Nemo': 5.0, \n",
        "'Jaws': 4.89,\n",
        "'Saving Private Ryan': 4.78, \n",
        "'Forest Gump': 4.33,\n",
        "'Harry Potter': 4.77,\n",
        "'The Godfather':  1.25,\n",
        "'Yes Man': 1.72\n",
        "},\n",
        "'User4':{\n",
        "'Forest Gump': 5.00\t\n",
        "},\n",
        "'User5': {\n",
        "'The Godfather': 4.02, \n",
        "'Yes Man': 5.00,\n",
        "},\n",
        "'User6': {\n",
        "'The Godfather': 3.07, \n",
        "'Yes Man': 4.29, \n",
        "'Inception': 5.00, \n",
        "'Goodfellas':  4.89\n",
        "},\n",
        "'User7': {\n",
        "'The Godfather': 3.80, \n",
        "'Yes Man': 3.61,\n",
        "'Apocalypse Now': 4.26 \n",
        "},\n",
        "'User8': {\n",
        "'Interstellar': 5.0,\n",
        "'Whiplash': 5.0,\n",
        "'The Godfather': 2.22,\n",
        "'Yes Man': 3.34\n",
        "},\n",
        "'User9': {\n",
        "'The Shawshank Redemption': 4.98,\n",
        "'Interstellar': 4.42,\n",
        "'Apocalypse Now': 1.63,\n",
        "'The Godfather': 1.12,\n",
        "'Yes Man': 2.16\n",
        "},\n",
        "'User10': {\n",
        "'Finding Nemo': 5.0, \n",
        "'Forest Gump': 4.84,\n",
        "},\n",
        "'User11': {\n",
        "'Saving Private Ryan': 3.78, \n",
        "'The Green Mile': 4.96,\n",
        "'The Godfather': 1.04,\n",
        "'Yes Man': 1.03\n",
        "},\n",
        "'User12': {\n",
        "'The Godfather': 5.00, \n",
        "'Yes Man': 5.0, \n",
        "'Jaws': 1.24,\n",
        "'Whiplash': 2.02\n",
        "},\n",
        "'User13': {\n",
        "'Inception': 5.0, \n",
        "'Goodfellas': 4.87,\n",
        "'Harry Potter': 1.14,\n",
        "'The Godfather': 4.00\n",
        "},\n",
        "'User14': {\n",
        "'The Godfather': 2.98,\n",
        "'Yes Man': 3.93,\n",
        "'Harry Potter': 1.37\n",
        "},\n",
        "'User15': {\n",
        "'Jaws': 5.0, \n",
        "'Harry Potter': 5.0,\n",
        "'The Godfather': 1.07,\n",
        "'Yes Man': 0.63\n",
        "},\n",
        "'User16': {\n",
        "'Inception': 4.89, \n",
        "'Goodfellas': 5.0,\n",
        "'The Godfather': 4.87,\n",
        "'Forest Gump': 1.32\n",
        "}\n",
        "}"
      ],
      "execution_count": null,
      "outputs": []
    },
    {
      "cell_type": "code",
      "metadata": {
        "id": "rbTljPqAt7ry"
      },
      "source": [
        "pd.DataFrame(watched).T"
      ],
      "execution_count": null,
      "outputs": []
    },
    {
      "cell_type": "code",
      "metadata": {
        "id": "5IrvBCz7XENs"
      },
      "source": [
        "# Function to get common movies b/w Users\n",
        "def get_common_movies(userA,userB):\n",
        "    return [movie for movie in watched[userA] if movie in watched[userB]]"
      ],
      "execution_count": null,
      "outputs": []
    },
    {
      "cell_type": "code",
      "metadata": {
        "colab": {
          "base_uri": "https://localhost:8080/"
        },
        "id": "gQw_ghReXHEt",
        "outputId": "97a25261-2810-4d54-a42c-101889873168"
      },
      "source": [
        "get_common_movies('User4','User1')"
      ],
      "execution_count": null,
      "outputs": [
        {
          "output_type": "execute_result",
          "data": {
            "text/plain": [
              "[]"
            ]
          },
          "metadata": {
            "tags": []
          },
          "execution_count": 156
        }
      ]
    },
    {
      "cell_type": "code",
      "metadata": {
        "colab": {
          "base_uri": "https://localhost:8080/"
        },
        "id": "nuuwElUmXKZT",
        "outputId": "4e42d3e9-c27d-46de-a45a-764a167e166e"
      },
      "source": [
        "get_common_movies('User3','User10')\n"
      ],
      "execution_count": null,
      "outputs": [
        {
          "output_type": "execute_result",
          "data": {
            "text/plain": [
              "['Finding Nemo', 'Forest Gump']"
            ]
          },
          "metadata": {
            "tags": []
          },
          "execution_count": 87
        }
      ]
    },
    {
      "cell_type": "code",
      "metadata": {
        "id": "1Bt3ZddOX-NR"
      },
      "source": [
        "def get_reviews(userA,userB):\n",
        "    common_movies = get_common_movies(userA,userB)\n",
        "    return [(watched[userA][movie], watched[userB][movie]) for movie in common_movies]"
      ],
      "execution_count": null,
      "outputs": []
    },
    {
      "cell_type": "code",
      "metadata": {
        "colab": {
          "base_uri": "https://localhost:8080/"
        },
        "id": "QjmBxBSUt60O",
        "outputId": "d6cf2564-f03f-4e84-ef8d-2db4bccd1367"
      },
      "source": [
        "get_reviews('User4','User10')"
      ],
      "execution_count": null,
      "outputs": [
        {
          "output_type": "execute_result",
          "data": {
            "text/plain": [
              "[(5.0, 4.84)]"
            ]
          },
          "metadata": {
            "tags": []
          },
          "execution_count": 209
        }
      ]
    },
    {
      "cell_type": "code",
      "metadata": {
        "id": "im-7th5XXSJ9"
      },
      "source": [
        "def euclidean_distance(points):\n",
        "    squared_diffs = [(point[0] - point[1]) ** 2 for point in points]\n",
        "    summed_squared_diffs = sum(squared_diffs)\n",
        "    distance = math.sqrt(summed_squared_diffs)\n",
        "    return distance"
      ],
      "execution_count": null,
      "outputs": []
    },
    {
      "cell_type": "code",
      "metadata": {
        "id": "VI6SPVJbXgoh"
      },
      "source": [
        "def similarity(reviews):\n",
        "    if reviews==[]:\n",
        "      return -1\n",
        "    else:\n",
        "      return 1/ (1 + euclidean_distance(reviews))"
      ],
      "execution_count": null,
      "outputs": []
    },
    {
      "cell_type": "code",
      "metadata": {
        "id": "lWRA46GyXivm"
      },
      "source": [
        "def get_user_similarity(userA, userB):\n",
        "    reviews = get_reviews(userA,userB)\n",
        "    return similarity(reviews)"
      ],
      "execution_count": null,
      "outputs": []
    },
    {
      "cell_type": "code",
      "metadata": {
        "colab": {
          "base_uri": "https://localhost:8080/"
        },
        "id": "6wU_0PFHuI8e",
        "outputId": "9ce599f5-0137-4942-ad91-ccab03d9206b"
      },
      "source": [
        "similarity([])"
      ],
      "execution_count": null,
      "outputs": [
        {
          "output_type": "execute_result",
          "data": {
            "text/plain": [
              "-1"
            ]
          },
          "metadata": {
            "tags": []
          },
          "execution_count": 185
        }
      ]
    },
    {
      "cell_type": "code",
      "metadata": {
        "colab": {
          "base_uri": "https://localhost:8080/"
        },
        "id": "-fPFYNy5XmLd",
        "outputId": "c42662c5-e0a6-44b4-8791-042d92096a02"
      },
      "source": [
        "get_user_similarity('User4','User2')"
      ],
      "execution_count": null,
      "outputs": [
        {
          "output_type": "execute_result",
          "data": {
            "text/plain": [
              "-1"
            ]
          },
          "metadata": {
            "tags": []
          },
          "execution_count": 186
        }
      ]
    },
    {
      "cell_type": "code",
      "metadata": {
        "id": "8C6sHjg8X1JS"
      },
      "source": [
        "def recommend_movies(user, num_suggestions):\n",
        "    similarity_scores = [(get_user_similarity(user, other), other) for other in watched if other != user] #get similarity scores with other users who also watched what you've watched.\n",
        "    # Get similarity Scores for all the users\n",
        "    similarity_scores.sort() \n",
        "    similarity_scores.reverse()\n",
        "    similarity_scores = similarity_scores[0:num_suggestions]\n",
        "    print(similarity_scores)\n",
        "  \n",
        "    recommendations = {}\n",
        "    # Dictionary to store recommendations\n",
        "    for similarity, other in similarity_scores:\n",
        "      if similarity==-1:\n",
        "        pass\n",
        "      else:\n",
        "        print(other)\n",
        "        reviewed = watched[other]\n",
        "        print(reviewed)\n",
        "        # Storing the review\n",
        "        for movie in reviewed:\n",
        "            if movie not in watched[user]:\n",
        "                print(movie)\n",
        "                weight = similarity * reviewed[movie]\n",
        "                print(weight)\n",
        "                # Weighing similarity with review\n",
        "                if movie in recommendations:\n",
        "                    sim, weights = recommendations[movie]\n",
        "                    recommendations[movie] = (sim + similarity, weights + [weight])\n",
        "                    print(recommendations)\n",
        "                    # Similarity of movie along with weight\n",
        "                else:\n",
        "                    recommendations[movie] = (similarity, [weight])\n",
        "                    \n",
        "\n",
        "    for recommendation in recommendations:\n",
        "        similarity, movie = recommendations[recommendation]\n",
        "        print(\"sum movie\" +str(sum(movie)))\n",
        "        print(similarity)\n",
        "        recommendations[recommendation] = sum(movie) / similarity\n",
        "        # Normalizing weights with similarity\n",
        "\n",
        "    sorted_recommendations = sorted(recommendations.items(), key=operator.itemgetter(1), reverse=True)\n",
        "    #Sorting recommendations with weight\n",
        "    return sorted_recommendations"
      ],
      "execution_count": null,
      "outputs": []
    },
    {
      "cell_type": "code",
      "metadata": {
        "colab": {
          "base_uri": "https://localhost:8080/"
        },
        "id": "TWuGs9FqY2Ht",
        "outputId": "e2273d20-d4ac-42e5-db07-ea87e9d02f35"
      },
      "source": [
        "recommend_movies('User4',10)"
      ],
      "execution_count": null,
      "outputs": [
        {
          "output_type": "stream",
          "text": [
            "[(0.8620689655172413, 'User10'), (0.5988023952095809, 'User3'), (0.2136752136752137, 'User16'), (-1, 'User9'), (-1, 'User8'), (-1, 'User7'), (-1, 'User6'), (-1, 'User5'), (-1, 'User2'), (-1, 'User15')]\n",
            "User10\n",
            "{'Finding Nemo': 5.0, 'Forest Gump': 4.84}\n",
            "Finding Nemo\n",
            "4.310344827586206\n",
            "User3\n",
            "{'Finding Nemo': 5.0, 'Jaws': 4.89, 'Saving Private Ryan': 4.78, 'Forest Gump': 4.33, 'Harry Potter': 4.77, 'The Godfather': 1.25, 'Yes Man': 1.72}\n",
            "Finding Nemo\n",
            "2.9940119760479043\n",
            "{'Finding Nemo': (1.4608713607268222, [4.310344827586206, 2.9940119760479043])}\n",
            "Jaws\n",
            "2.92814371257485\n",
            "Saving Private Ryan\n",
            "2.862275449101797\n",
            "Harry Potter\n",
            "2.856287425149701\n",
            "The Godfather\n",
            "0.7485029940119761\n",
            "Yes Man\n",
            "1.0299401197604792\n",
            "User16\n",
            "{'Inception': 4.89, 'Goodfellas': 5.0, 'The Godfather': 4.87, 'Forest Gump': 1.32}\n",
            "Inception\n",
            "1.044871794871795\n",
            "Goodfellas\n",
            "1.0683760683760686\n",
            "The Godfather\n",
            "1.0405982905982907\n",
            "{'Finding Nemo': (1.4608713607268222, [4.310344827586206, 2.9940119760479043]), 'Jaws': (0.5988023952095809, [2.92814371257485]), 'Saving Private Ryan': (0.5988023952095809, [2.862275449101797]), 'Harry Potter': (0.5988023952095809, [2.856287425149701]), 'The Godfather': (0.8124776088847946, [0.7485029940119761, 1.0405982905982907]), 'Yes Man': (0.5988023952095809, [1.0299401197604792]), 'Inception': (0.2136752136752137, [1.044871794871795]), 'Goodfellas': (0.2136752136752137, [1.0683760683760686])}\n",
            "sum movie7.304356803634111\n",
            "1.4608713607268222\n",
            "sum movie2.92814371257485\n",
            "0.5988023952095809\n",
            "sum movie2.862275449101797\n",
            "0.5988023952095809\n",
            "sum movie2.856287425149701\n",
            "0.5988023952095809\n",
            "sum movie1.7891012846102667\n",
            "0.8124776088847946\n",
            "sum movie1.0299401197604792\n",
            "0.5988023952095809\n",
            "sum movie1.044871794871795\n",
            "0.2136752136752137\n",
            "sum movie1.0683760683760686\n",
            "0.2136752136752137\n"
          ],
          "name": "stdout"
        },
        {
          "output_type": "execute_result",
          "data": {
            "text/plain": [
              "[('Goodfellas', 5.000000000000001),\n",
              " ('Finding Nemo', 5.0),\n",
              " ('Jaws', 4.89),\n",
              " ('Inception', 4.89),\n",
              " ('Saving Private Ryan', 4.78),\n",
              " ('Harry Potter', 4.77),\n",
              " ('The Godfather', 2.202031496062992),\n",
              " ('Yes Man', 1.72)]"
            ]
          },
          "metadata": {
            "tags": []
          },
          "execution_count": 222
        }
      ]
    },
    {
      "cell_type": "code",
      "metadata": {
        "colab": {
          "base_uri": "https://localhost:8080/"
        },
        "id": "I1AVKKiHZEj3",
        "outputId": "32110d64-0fc9-432a-d244-0540e465e44c"
      },
      "source": [
        "watched"
      ],
      "execution_count": null,
      "outputs": [
        {
          "output_type": "execute_result",
          "data": {
            "text/plain": [
              "{'User1': {'Apocalypse Now': 5.0,\n",
              "  'Jaws': 1.0,\n",
              "  'The Godfather': 5.0,\n",
              "  'Yes Man': 4.29},\n",
              " 'User10': {'Finding Nemo': 5.0, 'Forest Gump': 4.84},\n",
              " 'User11': {'Saving Private Ryan': 3.78,\n",
              "  'The Godfather': 1.04,\n",
              "  'The Green Mile': 4.96,\n",
              "  'Yes Man': 1.03},\n",
              " 'User12': {'Jaws': 1.24,\n",
              "  'The Godfather': 5.0,\n",
              "  'Whiplash': 2.02,\n",
              "  'Yes Man': 5.0},\n",
              " 'User13': {'Goodfellas': 4.87,\n",
              "  'Harry Potter': 1.14,\n",
              "  'Inception': 5.0,\n",
              "  'The Godfather': 4.0},\n",
              " 'User14': {'Harry Potter': 1.37, 'The Godfather': 2.98, 'Yes Man': 3.93},\n",
              " 'User15': {'Harry Potter': 5.0,\n",
              "  'Jaws': 5.0,\n",
              "  'The Godfather': 1.07,\n",
              "  'Yes Man': 0.63},\n",
              " 'User16': {'Forest Gump': 1.32,\n",
              "  'Goodfellas': 5.0,\n",
              "  'Inception': 4.89,\n",
              "  'The Godfather': 4.87},\n",
              " 'User2': {'Interstellar': 4.93,\n",
              "  'The Godfather': 1.33,\n",
              "  'The Green Mile': 4.87,\n",
              "  'The Shawshank Redemption': 4.89},\n",
              " 'User3': {'Finding Nemo': 5.0,\n",
              "  'Forest Gump': 4.33,\n",
              "  'Harry Potter': 4.77,\n",
              "  'Jaws': 4.89,\n",
              "  'Saving Private Ryan': 4.78,\n",
              "  'The Godfather': 1.25,\n",
              "  'Yes Man': 1.72},\n",
              " 'User4': {'Forest Gump': 5.0},\n",
              " 'User5': {'The Godfather': 4.02, 'Yes Man': 5.0},\n",
              " 'User6': {'Goodfellas': 4.89,\n",
              "  'Inception': 5.0,\n",
              "  'The Godfather': 3.07,\n",
              "  'Yes Man': 4.29},\n",
              " 'User7': {'Apocalypse Now': 4.26, 'The Godfather': 3.8, 'Yes Man': 3.61},\n",
              " 'User8': {'Interstellar': 5.0,\n",
              "  'The Godfather': 2.22,\n",
              "  'Whiplash': 5.0,\n",
              "  'Yes Man': 3.34},\n",
              " 'User9': {'Apocalypse Now': 1.63,\n",
              "  'Interstellar': 4.42,\n",
              "  'The Godfather': 1.12,\n",
              "  'The Shawshank Redemption': 4.98,\n",
              "  'Yes Man': 2.16}}"
            ]
          },
          "metadata": {
            "tags": []
          },
          "execution_count": 78
        }
      ]
    },
    {
      "cell_type": "code",
      "metadata": {
        "id": "eXLFIG_qZkhx"
      },
      "source": [
        "df=pd.DataFrame.from_dict(watched)"
      ],
      "execution_count": null,
      "outputs": []
    },
    {
      "cell_type": "code",
      "metadata": {
        "colab": {
          "base_uri": "https://localhost:8080/"
        },
        "id": "O8UbIJqzaLlB",
        "outputId": "fc147d3c-7fae-40ec-e71f-c648fd4e6348"
      },
      "source": [
        "get_user_similarity('User4','User16')"
      ],
      "execution_count": null,
      "outputs": [
        {
          "output_type": "execute_result",
          "data": {
            "text/plain": [
              "0.2136752136752137"
            ]
          },
          "metadata": {
            "tags": []
          },
          "execution_count": 201
        }
      ]
    },
    {
      "cell_type": "code",
      "metadata": {
        "colab": {
          "base_uri": "https://localhost:8080/"
        },
        "id": "4ygUQNWdwMKq",
        "outputId": "03608529-97f1-486a-aacc-741d5769dfee"
      },
      "source": [
        "get_user_similarity('User4','User10')"
      ],
      "execution_count": null,
      "outputs": [
        {
          "output_type": "execute_result",
          "data": {
            "text/plain": [
              "0.8620689655172413"
            ]
          },
          "metadata": {
            "tags": []
          },
          "execution_count": 202
        }
      ]
    },
    {
      "cell_type": "code",
      "metadata": {
        "colab": {
          "base_uri": "https://localhost:8080/"
        },
        "id": "kFi3cD8EwSEQ",
        "outputId": "90f48ee5-c119-492f-ae81-3653ec84f80c"
      },
      "source": [
        "get_user_similarity('User4','User3')"
      ],
      "execution_count": null,
      "outputs": [
        {
          "output_type": "execute_result",
          "data": {
            "text/plain": [
              "0.5988023952095809"
            ]
          },
          "metadata": {
            "tags": []
          },
          "execution_count": 204
        }
      ]
    },
    {
      "cell_type": "code",
      "metadata": {
        "colab": {
          "base_uri": "https://localhost:8080/"
        },
        "id": "zZuVV6MUwULx",
        "outputId": "965e4082-c64a-43fe-f177-508bf9103f85"
      },
      "source": [
        "1/(1+euclidean_distance([(5,1.32)]))*5"
      ],
      "execution_count": null,
      "outputs": [
        {
          "output_type": "execute_result",
          "data": {
            "text/plain": [
              "1.0683760683760686"
            ]
          },
          "metadata": {
            "tags": []
          },
          "execution_count": 212
        }
      ]
    },
    {
      "cell_type": "code",
      "metadata": {
        "id": "GzKF3vrew2K0"
      },
      "source": [
        "from sklearn.metrics.pairwise import pairwise_distances\n",
        "user_sim = pairwise_distances(df1.T,metric = 'cosine')"
      ],
      "execution_count": null,
      "outputs": []
    },
    {
      "cell_type": "code",
      "metadata": {
        "colab": {
          "base_uri": "https://localhost:8080/"
        },
        "id": "B8p7GdtIIMV6",
        "outputId": "6e3693b3-0331-463f-bcb6-f6e71abf57de"
      },
      "source": [
        "df.mean(axis=1)"
      ],
      "execution_count": null,
      "outputs": [
        {
          "output_type": "execute_result",
          "data": {
            "text/plain": [
              "The Godfather               2.912143\n",
              "Yes Man                     3.181818\n",
              "Apocalypse Now              3.630000\n",
              "Jaws                        3.032500\n",
              "The Shawshank Redemption    4.935000\n",
              "Interstellar                4.783333\n",
              "The Green Mile              4.915000\n",
              "Finding Nemo                5.000000\n",
              "Saving Private Ryan         4.280000\n",
              "Forest Gump                 3.872500\n",
              "Harry Potter                3.070000\n",
              "Inception                   4.963333\n",
              "Goodfellas                  4.920000\n",
              "Whiplash                    3.510000\n",
              "dtype: float64"
            ]
          },
          "metadata": {
            "tags": []
          },
          "execution_count": 225
        }
      ]
    },
    {
      "cell_type": "code",
      "metadata": {
        "id": "z7scA6_bIYJz"
      },
      "source": [
        "df1=df.fillna(df.mean(axis=0))"
      ],
      "execution_count": null,
      "outputs": []
    },
    {
      "cell_type": "code",
      "metadata": {
        "colab": {
          "base_uri": "https://localhost:8080/",
          "height": 545
        },
        "id": "MBhijox9Iouk",
        "outputId": "452fdbd5-d94d-46c9-dd61-eda1e8f87aad"
      },
      "source": [
        "pd.DataFrame(user_sim)"
      ],
      "execution_count": null,
      "outputs": [
        {
          "output_type": "execute_result",
          "data": {
            "text/html": [
              "<div>\n",
              "<style scoped>\n",
              "    .dataframe tbody tr th:only-of-type {\n",
              "        vertical-align: middle;\n",
              "    }\n",
              "\n",
              "    .dataframe tbody tr th {\n",
              "        vertical-align: top;\n",
              "    }\n",
              "\n",
              "    .dataframe thead th {\n",
              "        text-align: right;\n",
              "    }\n",
              "</style>\n",
              "<table border=\"1\" class=\"dataframe\">\n",
              "  <thead>\n",
              "    <tr style=\"text-align: right;\">\n",
              "      <th></th>\n",
              "      <th>0</th>\n",
              "      <th>1</th>\n",
              "      <th>2</th>\n",
              "      <th>3</th>\n",
              "      <th>4</th>\n",
              "      <th>5</th>\n",
              "      <th>6</th>\n",
              "      <th>7</th>\n",
              "      <th>8</th>\n",
              "      <th>9</th>\n",
              "      <th>10</th>\n",
              "      <th>11</th>\n",
              "      <th>12</th>\n",
              "      <th>13</th>\n",
              "      <th>14</th>\n",
              "      <th>15</th>\n",
              "    </tr>\n",
              "  </thead>\n",
              "  <tbody>\n",
              "    <tr>\n",
              "      <th>0</th>\n",
              "      <td>0.000000</td>\n",
              "      <td>5.984015e-02</td>\n",
              "      <td>0.093307</td>\n",
              "      <td>2.575415e-02</td>\n",
              "      <td>2.797771e-02</td>\n",
              "      <td>0.036315</td>\n",
              "      <td>2.533753e-02</td>\n",
              "      <td>4.855505e-02</td>\n",
              "      <td>0.096080</td>\n",
              "      <td>2.577254e-02</td>\n",
              "      <td>0.095077</td>\n",
              "      <td>1.501568e-02</td>\n",
              "      <td>0.047473</td>\n",
              "      <td>0.035467</td>\n",
              "      <td>0.142389</td>\n",
              "      <td>4.161258e-02</td>\n",
              "    </tr>\n",
              "    <tr>\n",
              "      <th>1</th>\n",
              "      <td>0.059840</td>\n",
              "      <td>5.551115e-16</td>\n",
              "      <td>0.025754</td>\n",
              "      <td>2.059345e-02</td>\n",
              "      <td>1.634585e-02</td>\n",
              "      <td>0.011582</td>\n",
              "      <td>2.002896e-02</td>\n",
              "      <td>8.835508e-03</td>\n",
              "      <td>0.021664</td>\n",
              "      <td>2.061195e-02</td>\n",
              "      <td>0.033554</td>\n",
              "      <td>7.862438e-02</td>\n",
              "      <td>0.046824</td>\n",
              "      <td>0.039288</td>\n",
              "      <td>0.056846</td>\n",
              "      <td>5.067156e-02</td>\n",
              "    </tr>\n",
              "    <tr>\n",
              "      <th>2</th>\n",
              "      <td>0.093307</td>\n",
              "      <td>2.575403e-02</td>\n",
              "      <td>0.000000</td>\n",
              "      <td>3.620395e-02</td>\n",
              "      <td>3.609607e-02</td>\n",
              "      <td>0.027044</td>\n",
              "      <td>3.291806e-02</td>\n",
              "      <td>2.368821e-02</td>\n",
              "      <td>0.047180</td>\n",
              "      <td>3.602582e-02</td>\n",
              "      <td>0.031817</td>\n",
              "      <td>1.236577e-01</td>\n",
              "      <td>0.073674</td>\n",
              "      <td>0.078913</td>\n",
              "      <td>0.019787</td>\n",
              "      <td>7.191639e-02</td>\n",
              "    </tr>\n",
              "    <tr>\n",
              "      <th>3</th>\n",
              "      <td>0.025754</td>\n",
              "      <td>2.059345e-02</td>\n",
              "      <td>0.036204</td>\n",
              "      <td>1.110223e-16</td>\n",
              "      <td>8.420971e-04</td>\n",
              "      <td>0.004483</td>\n",
              "      <td>5.268447e-04</td>\n",
              "      <td>1.285976e-02</td>\n",
              "      <td>0.048388</td>\n",
              "      <td>1.888467e-05</td>\n",
              "      <td>0.053221</td>\n",
              "      <td>3.587110e-02</td>\n",
              "      <td>0.023710</td>\n",
              "      <td>0.015343</td>\n",
              "      <td>0.065296</td>\n",
              "      <td>2.083314e-02</td>\n",
              "    </tr>\n",
              "    <tr>\n",
              "      <th>4</th>\n",
              "      <td>0.027978</td>\n",
              "      <td>1.634585e-02</td>\n",
              "      <td>0.036096</td>\n",
              "      <td>8.420971e-04</td>\n",
              "      <td>3.330669e-16</td>\n",
              "      <td>0.003138</td>\n",
              "      <td>1.747029e-03</td>\n",
              "      <td>1.148723e-02</td>\n",
              "      <td>0.046508</td>\n",
              "      <td>8.609659e-04</td>\n",
              "      <td>0.054045</td>\n",
              "      <td>3.668299e-02</td>\n",
              "      <td>0.025031</td>\n",
              "      <td>0.013544</td>\n",
              "      <td>0.067173</td>\n",
              "      <td>2.326307e-02</td>\n",
              "    </tr>\n",
              "    <tr>\n",
              "      <th>5</th>\n",
              "      <td>0.036315</td>\n",
              "      <td>1.158249e-02</td>\n",
              "      <td>0.027044</td>\n",
              "      <td>4.483437e-03</td>\n",
              "      <td>3.137999e-03</td>\n",
              "      <td>0.000000</td>\n",
              "      <td>4.507476e-03</td>\n",
              "      <td>8.551488e-03</td>\n",
              "      <td>0.040701</td>\n",
              "      <td>4.502237e-03</td>\n",
              "      <td>0.045316</td>\n",
              "      <td>5.041565e-02</td>\n",
              "      <td>0.022958</td>\n",
              "      <td>0.021520</td>\n",
              "      <td>0.057070</td>\n",
              "      <td>2.478962e-02</td>\n",
              "    </tr>\n",
              "    <tr>\n",
              "      <th>6</th>\n",
              "      <td>0.025338</td>\n",
              "      <td>2.002896e-02</td>\n",
              "      <td>0.032918</td>\n",
              "      <td>5.268447e-04</td>\n",
              "      <td>1.747029e-03</td>\n",
              "      <td>0.004507</td>\n",
              "      <td>4.440892e-16</td>\n",
              "      <td>1.196265e-02</td>\n",
              "      <td>0.049515</td>\n",
              "      <td>5.457194e-04</td>\n",
              "      <td>0.049747</td>\n",
              "      <td>3.970676e-02</td>\n",
              "      <td>0.024330</td>\n",
              "      <td>0.018136</td>\n",
              "      <td>0.061040</td>\n",
              "      <td>2.169098e-02</td>\n",
              "    </tr>\n",
              "    <tr>\n",
              "      <th>7</th>\n",
              "      <td>0.048555</td>\n",
              "      <td>8.835508e-03</td>\n",
              "      <td>0.023688</td>\n",
              "      <td>1.285976e-02</td>\n",
              "      <td>1.148723e-02</td>\n",
              "      <td>0.008551</td>\n",
              "      <td>1.196265e-02</td>\n",
              "      <td>5.551115e-16</td>\n",
              "      <td>0.030343</td>\n",
              "      <td>1.287840e-02</td>\n",
              "      <td>0.041925</td>\n",
              "      <td>7.556735e-02</td>\n",
              "      <td>0.038214</td>\n",
              "      <td>0.034542</td>\n",
              "      <td>0.052061</td>\n",
              "      <td>3.969210e-02</td>\n",
              "    </tr>\n",
              "    <tr>\n",
              "      <th>8</th>\n",
              "      <td>0.096080</td>\n",
              "      <td>2.166381e-02</td>\n",
              "      <td>0.047180</td>\n",
              "      <td>4.838773e-02</td>\n",
              "      <td>4.650775e-02</td>\n",
              "      <td>0.040701</td>\n",
              "      <td>4.951455e-02</td>\n",
              "      <td>3.034252e-02</td>\n",
              "      <td>0.000000</td>\n",
              "      <td>4.840570e-02</td>\n",
              "      <td>0.065168</td>\n",
              "      <td>1.109687e-01</td>\n",
              "      <td>0.073614</td>\n",
              "      <td>0.073195</td>\n",
              "      <td>0.073772</td>\n",
              "      <td>7.677845e-02</td>\n",
              "    </tr>\n",
              "    <tr>\n",
              "      <th>9</th>\n",
              "      <td>0.025773</td>\n",
              "      <td>2.061195e-02</td>\n",
              "      <td>0.036026</td>\n",
              "      <td>1.888467e-05</td>\n",
              "      <td>8.609659e-04</td>\n",
              "      <td>0.004502</td>\n",
              "      <td>5.457194e-04</td>\n",
              "      <td>1.287840e-02</td>\n",
              "      <td>0.048406</td>\n",
              "      <td>1.110223e-16</td>\n",
              "      <td>0.053239</td>\n",
              "      <td>3.588930e-02</td>\n",
              "      <td>0.023728</td>\n",
              "      <td>0.015361</td>\n",
              "      <td>0.065313</td>\n",
              "      <td>2.008783e-02</td>\n",
              "    </tr>\n",
              "    <tr>\n",
              "      <th>10</th>\n",
              "      <td>0.095077</td>\n",
              "      <td>3.355411e-02</td>\n",
              "      <td>0.031817</td>\n",
              "      <td>5.322095e-02</td>\n",
              "      <td>5.404539e-02</td>\n",
              "      <td>0.045316</td>\n",
              "      <td>4.974681e-02</td>\n",
              "      <td>4.192455e-02</td>\n",
              "      <td>0.065168</td>\n",
              "      <td>5.323883e-02</td>\n",
              "      <td>0.000000</td>\n",
              "      <td>1.280810e-01</td>\n",
              "      <td>0.078348</td>\n",
              "      <td>0.088482</td>\n",
              "      <td>0.059687</td>\n",
              "      <td>8.155856e-02</td>\n",
              "    </tr>\n",
              "    <tr>\n",
              "      <th>11</th>\n",
              "      <td>0.015016</td>\n",
              "      <td>7.862438e-02</td>\n",
              "      <td>0.123658</td>\n",
              "      <td>3.587110e-02</td>\n",
              "      <td>3.668299e-02</td>\n",
              "      <td>0.050416</td>\n",
              "      <td>3.970676e-02</td>\n",
              "      <td>7.556735e-02</td>\n",
              "      <td>0.110969</td>\n",
              "      <td>3.588930e-02</td>\n",
              "      <td>0.128081</td>\n",
              "      <td>3.330669e-16</td>\n",
              "      <td>0.056476</td>\n",
              "      <td>0.033305</td>\n",
              "      <td>0.173829</td>\n",
              "      <td>4.870968e-02</td>\n",
              "    </tr>\n",
              "    <tr>\n",
              "      <th>12</th>\n",
              "      <td>0.047473</td>\n",
              "      <td>4.682375e-02</td>\n",
              "      <td>0.073674</td>\n",
              "      <td>2.370978e-02</td>\n",
              "      <td>2.503121e-02</td>\n",
              "      <td>0.022958</td>\n",
              "      <td>2.433050e-02</td>\n",
              "      <td>3.821382e-02</td>\n",
              "      <td>0.073614</td>\n",
              "      <td>2.372822e-02</td>\n",
              "      <td>0.078348</td>\n",
              "      <td>5.647637e-02</td>\n",
              "      <td>0.000000</td>\n",
              "      <td>0.014252</td>\n",
              "      <td>0.122376</td>\n",
              "      <td>3.322684e-02</td>\n",
              "    </tr>\n",
              "    <tr>\n",
              "      <th>13</th>\n",
              "      <td>0.035467</td>\n",
              "      <td>3.928769e-02</td>\n",
              "      <td>0.078913</td>\n",
              "      <td>1.534283e-02</td>\n",
              "      <td>1.354401e-02</td>\n",
              "      <td>0.021520</td>\n",
              "      <td>1.813616e-02</td>\n",
              "      <td>3.454239e-02</td>\n",
              "      <td>0.073195</td>\n",
              "      <td>1.536142e-02</td>\n",
              "      <td>0.088482</td>\n",
              "      <td>3.330498e-02</td>\n",
              "      <td>0.014252</td>\n",
              "      <td>0.000000</td>\n",
              "      <td>0.128313</td>\n",
              "      <td>3.469563e-02</td>\n",
              "    </tr>\n",
              "    <tr>\n",
              "      <th>14</th>\n",
              "      <td>0.142389</td>\n",
              "      <td>5.684646e-02</td>\n",
              "      <td>0.019787</td>\n",
              "      <td>6.529568e-02</td>\n",
              "      <td>6.717304e-02</td>\n",
              "      <td>0.057070</td>\n",
              "      <td>6.104040e-02</td>\n",
              "      <td>5.206083e-02</td>\n",
              "      <td>0.073772</td>\n",
              "      <td>6.531333e-02</td>\n",
              "      <td>0.059687</td>\n",
              "      <td>1.738291e-01</td>\n",
              "      <td>0.122376</td>\n",
              "      <td>0.128313</td>\n",
              "      <td>0.000000</td>\n",
              "      <td>9.353476e-02</td>\n",
              "    </tr>\n",
              "    <tr>\n",
              "      <th>15</th>\n",
              "      <td>0.041613</td>\n",
              "      <td>5.067156e-02</td>\n",
              "      <td>0.071916</td>\n",
              "      <td>2.083314e-02</td>\n",
              "      <td>2.326307e-02</td>\n",
              "      <td>0.024790</td>\n",
              "      <td>2.169098e-02</td>\n",
              "      <td>3.969210e-02</td>\n",
              "      <td>0.076778</td>\n",
              "      <td>2.008783e-02</td>\n",
              "      <td>0.081559</td>\n",
              "      <td>4.870968e-02</td>\n",
              "      <td>0.033227</td>\n",
              "      <td>0.034696</td>\n",
              "      <td>0.093535</td>\n",
              "      <td>2.220446e-16</td>\n",
              "    </tr>\n",
              "  </tbody>\n",
              "</table>\n",
              "</div>"
            ],
            "text/plain": [
              "          0             1         2   ...        13        14            15\n",
              "0   0.000000  5.984015e-02  0.093307  ...  0.035467  0.142389  4.161258e-02\n",
              "1   0.059840  5.551115e-16  0.025754  ...  0.039288  0.056846  5.067156e-02\n",
              "2   0.093307  2.575403e-02  0.000000  ...  0.078913  0.019787  7.191639e-02\n",
              "3   0.025754  2.059345e-02  0.036204  ...  0.015343  0.065296  2.083314e-02\n",
              "4   0.027978  1.634585e-02  0.036096  ...  0.013544  0.067173  2.326307e-02\n",
              "5   0.036315  1.158249e-02  0.027044  ...  0.021520  0.057070  2.478962e-02\n",
              "6   0.025338  2.002896e-02  0.032918  ...  0.018136  0.061040  2.169098e-02\n",
              "7   0.048555  8.835508e-03  0.023688  ...  0.034542  0.052061  3.969210e-02\n",
              "8   0.096080  2.166381e-02  0.047180  ...  0.073195  0.073772  7.677845e-02\n",
              "9   0.025773  2.061195e-02  0.036026  ...  0.015361  0.065313  2.008783e-02\n",
              "10  0.095077  3.355411e-02  0.031817  ...  0.088482  0.059687  8.155856e-02\n",
              "11  0.015016  7.862438e-02  0.123658  ...  0.033305  0.173829  4.870968e-02\n",
              "12  0.047473  4.682375e-02  0.073674  ...  0.014252  0.122376  3.322684e-02\n",
              "13  0.035467  3.928769e-02  0.078913  ...  0.000000  0.128313  3.469563e-02\n",
              "14  0.142389  5.684646e-02  0.019787  ...  0.128313  0.000000  9.353476e-02\n",
              "15  0.041613  5.067156e-02  0.071916  ...  0.034696  0.093535  2.220446e-16\n",
              "\n",
              "[16 rows x 16 columns]"
            ]
          },
          "metadata": {
            "tags": []
          },
          "execution_count": 232
        }
      ]
    },
    {
      "cell_type": "code",
      "metadata": {
        "id": "5QReVnaIIsle"
      },
      "source": [
        ""
      ],
      "execution_count": null,
      "outputs": []
    },
    {
      "cell_type": "markdown",
      "metadata": {
        "id": "E3W4cWZ6KmXp"
      },
      "source": [
        "## Different Model"
      ]
    },
    {
      "cell_type": "code",
      "metadata": {
        "id": "5YCOHJn4Pghi"
      },
      "source": [
        "movies = pd.read_csv(\"movies1.csv\",encoding=\"Latin1\")\n",
        "Ratings = pd.read_csv(\"ratings1.csv\")\n",
        "Tags = pd.read_csv(\"tags.csv\",encoding=\"Latin1\")\n",
        "\n",
        "Mean = Ratings.groupby(by=\"userId\",as_index=False)['rating'].mean()\n",
        "Rating_avg = pd.merge(Ratings,Mean,on='userId')\n",
        "Rating_avg['adg_rating']=Rating_avg['rating_x']-Rating_avg['rating_y']\n",
        "Rating_avg.head()"
      ],
      "execution_count": null,
      "outputs": []
    },
    {
      "cell_type": "code",
      "metadata": {
        "id": "IRIEoKcnqQ20"
      },
      "source": [
        "check = pd.pivot_table(Rating_avg,values='rating_x',index='userId',columns='movieId')\n",
        "check"
      ],
      "execution_count": null,
      "outputs": []
    },
    {
      "cell_type": "code",
      "metadata": {
        "id": "bEPAvbh1qTXn"
      },
      "source": [
        "final = pd.pivot_table(Rating_avg,values='adg_rating',index='userId',columns='movieId')"
      ],
      "execution_count": null,
      "outputs": []
    },
    {
      "cell_type": "code",
      "metadata": {
        "id": "ssZ8VKvCqZYd"
      },
      "source": [
        "# Replacing NaN by Movie Average\n",
        "final_movie = final.fillna(final.mean(axis=0))\n",
        "\n",
        "# Replacing NaN by user Average\n",
        "final_user = final.apply(lambda row: row.fillna(row.mean()), axis=1)"
      ],
      "execution_count": null,
      "outputs": []
    },
    {
      "cell_type": "code",
      "metadata": {
        "id": "N-gPWQWOqfxy"
      },
      "source": [
        "# user similarity on replacing NAN by user avg\n",
        "b = cosine_similarity(final_user)\n",
        "np.fill_diagonal(b, 0 )\n",
        "similarity_with_user = pd.DataFrame(b,index=final_user.index)\n",
        "similarity_with_user.columns=final_user.index\n",
        "similarity_with_user"
      ],
      "execution_count": null,
      "outputs": []
    },
    {
      "cell_type": "code",
      "metadata": {
        "id": "frQaGIgWqo4H"
      },
      "source": [
        "# user similarity on replacing NAN by item(movie) avg\n",
        "cosine = cosine_similarity(final_movie)\n",
        "np.fill_diagonal(cosine, 0 )\n",
        "similarity_with_movie = pd.DataFrame(cosine,index=final_movie.index)\n",
        "similarity_with_movie.columns=final_user.index\n",
        "similarity_with_movie.head()"
      ],
      "execution_count": null,
      "outputs": []
    },
    {
      "cell_type": "code",
      "metadata": {
        "id": "tyivIwjbqrYb"
      },
      "source": [
        "def find_n_neighbours(df,n):\n",
        "    order = np.argsort(df.values, axis=1)[:, :n]\n",
        "    df = df.apply(lambda x: pd.Series(x.sort_values(ascending=False).iloc[:n].index,index=['Top{}'.format(i) for i in range(1, n+1)]), axis=1)\n",
        "    return df"
      ],
      "execution_count": null,
      "outputs": []
    },
    {
      "cell_type": "code",
      "metadata": {
        "id": "EiXI5KEE3kpd"
      },
      "source": [
        ""
      ],
      "execution_count": null,
      "outputs": []
    },
    {
      "cell_type": "code",
      "metadata": {
        "colab": {
          "base_uri": "https://localhost:8080/",
          "height": 235
        },
        "id": "9Fo69zE0qtQE",
        "outputId": "f16745cf-9502-4d9f-c71b-bb3019b12dc0"
      },
      "source": [
        "# top 5 neighbours for each user\n",
        "sim_user_5 = find_n_neighbours(similarity_with_movie,5)\n",
        "sim_user_5.head()"
      ],
      "execution_count": null,
      "outputs": [
        {
          "output_type": "execute_result",
          "data": {
            "text/html": [
              "<div>\n",
              "<style scoped>\n",
              "    .dataframe tbody tr th:only-of-type {\n",
              "        vertical-align: middle;\n",
              "    }\n",
              "\n",
              "    .dataframe tbody tr th {\n",
              "        vertical-align: top;\n",
              "    }\n",
              "\n",
              "    .dataframe thead th {\n",
              "        text-align: right;\n",
              "    }\n",
              "</style>\n",
              "<table border=\"1\" class=\"dataframe\">\n",
              "  <thead>\n",
              "    <tr style=\"text-align: right;\">\n",
              "      <th></th>\n",
              "      <th>Top1</th>\n",
              "      <th>Top2</th>\n",
              "      <th>Top3</th>\n",
              "      <th>Top4</th>\n",
              "      <th>Top5</th>\n",
              "    </tr>\n",
              "    <tr>\n",
              "      <th>userId</th>\n",
              "      <th></th>\n",
              "      <th></th>\n",
              "      <th></th>\n",
              "      <th></th>\n",
              "      <th></th>\n",
              "    </tr>\n",
              "  </thead>\n",
              "  <tbody>\n",
              "    <tr>\n",
              "      <th>1</th>\n",
              "      <td>7</td>\n",
              "      <td>12</td>\n",
              "      <td>14</td>\n",
              "      <td>5</td>\n",
              "      <td>4</td>\n",
              "    </tr>\n",
              "    <tr>\n",
              "      <th>2</th>\n",
              "      <td>6</td>\n",
              "      <td>4</td>\n",
              "      <td>10</td>\n",
              "      <td>9</td>\n",
              "      <td>7</td>\n",
              "    </tr>\n",
              "    <tr>\n",
              "      <th>3</th>\n",
              "      <td>11</td>\n",
              "      <td>9</td>\n",
              "      <td>15</td>\n",
              "      <td>4</td>\n",
              "      <td>10</td>\n",
              "    </tr>\n",
              "    <tr>\n",
              "      <th>4</th>\n",
              "      <td>10</td>\n",
              "      <td>6</td>\n",
              "      <td>7</td>\n",
              "      <td>9</td>\n",
              "      <td>16</td>\n",
              "    </tr>\n",
              "    <tr>\n",
              "      <th>5</th>\n",
              "      <td>8</td>\n",
              "      <td>12</td>\n",
              "      <td>1</td>\n",
              "      <td>7</td>\n",
              "      <td>4</td>\n",
              "    </tr>\n",
              "  </tbody>\n",
              "</table>\n",
              "</div>"
            ],
            "text/plain": [
              "        Top1  Top2  Top3  Top4  Top5\n",
              "userId                              \n",
              "1          7    12    14     5     4\n",
              "2          6     4    10     9     7\n",
              "3         11     9    15     4    10\n",
              "4         10     6     7     9    16\n",
              "5          8    12     1     7     4"
            ]
          },
          "metadata": {
            "tags": []
          },
          "execution_count": 141
        }
      ]
    },
    {
      "cell_type": "code",
      "metadata": {
        "colab": {
          "base_uri": "https://localhost:8080/",
          "height": 255
        },
        "id": "AKaPrLHarAGZ",
        "outputId": "5f5eeac8-d235-49fa-8e02-c3cd30c7c8cb"
      },
      "source": [
        "# top 30 neighbours for each user\n",
        "sim_user_30_m = find_n_neighbours(similarity_with_movie,30)\n",
        "sim_user_30_m.head()"
      ],
      "execution_count": null,
      "outputs": [
        {
          "output_type": "execute_result",
          "data": {
            "text/html": [
              "<div>\n",
              "<style scoped>\n",
              "    .dataframe tbody tr th:only-of-type {\n",
              "        vertical-align: middle;\n",
              "    }\n",
              "\n",
              "    .dataframe tbody tr th {\n",
              "        vertical-align: top;\n",
              "    }\n",
              "\n",
              "    .dataframe thead th {\n",
              "        text-align: right;\n",
              "    }\n",
              "</style>\n",
              "<table border=\"1\" class=\"dataframe\">\n",
              "  <thead>\n",
              "    <tr style=\"text-align: right;\">\n",
              "      <th></th>\n",
              "      <th>Top1</th>\n",
              "      <th>Top2</th>\n",
              "      <th>Top3</th>\n",
              "      <th>Top4</th>\n",
              "      <th>Top5</th>\n",
              "      <th>Top6</th>\n",
              "      <th>Top7</th>\n",
              "      <th>Top8</th>\n",
              "      <th>Top9</th>\n",
              "      <th>Top10</th>\n",
              "      <th>Top11</th>\n",
              "      <th>Top12</th>\n",
              "      <th>Top13</th>\n",
              "      <th>Top14</th>\n",
              "      <th>Top15</th>\n",
              "      <th>Top16</th>\n",
              "      <th>Top17</th>\n",
              "      <th>Top18</th>\n",
              "      <th>Top19</th>\n",
              "      <th>Top20</th>\n",
              "      <th>Top21</th>\n",
              "      <th>Top22</th>\n",
              "      <th>Top23</th>\n",
              "      <th>Top24</th>\n",
              "      <th>Top25</th>\n",
              "      <th>Top26</th>\n",
              "      <th>Top27</th>\n",
              "      <th>Top28</th>\n",
              "      <th>Top29</th>\n",
              "      <th>Top30</th>\n",
              "    </tr>\n",
              "    <tr>\n",
              "      <th>userId</th>\n",
              "      <th></th>\n",
              "      <th></th>\n",
              "      <th></th>\n",
              "      <th></th>\n",
              "      <th></th>\n",
              "      <th></th>\n",
              "      <th></th>\n",
              "      <th></th>\n",
              "      <th></th>\n",
              "      <th></th>\n",
              "      <th></th>\n",
              "      <th></th>\n",
              "      <th></th>\n",
              "      <th></th>\n",
              "      <th></th>\n",
              "      <th></th>\n",
              "      <th></th>\n",
              "      <th></th>\n",
              "      <th></th>\n",
              "      <th></th>\n",
              "      <th></th>\n",
              "      <th></th>\n",
              "      <th></th>\n",
              "      <th></th>\n",
              "      <th></th>\n",
              "      <th></th>\n",
              "      <th></th>\n",
              "      <th></th>\n",
              "      <th></th>\n",
              "      <th></th>\n",
              "    </tr>\n",
              "  </thead>\n",
              "  <tbody>\n",
              "    <tr>\n",
              "      <th>316</th>\n",
              "      <td>138176</td>\n",
              "      <td>100240</td>\n",
              "      <td>96936</td>\n",
              "      <td>51460</td>\n",
              "      <td>88932</td>\n",
              "      <td>1447</td>\n",
              "      <td>104732</td>\n",
              "      <td>125012</td>\n",
              "      <td>5268</td>\n",
              "      <td>121403</td>\n",
              "      <td>104529</td>\n",
              "      <td>12930</td>\n",
              "      <td>13927</td>\n",
              "      <td>128079</td>\n",
              "      <td>78908</td>\n",
              "      <td>27142</td>\n",
              "      <td>42944</td>\n",
              "      <td>129869</td>\n",
              "      <td>51255</td>\n",
              "      <td>124454</td>\n",
              "      <td>121987</td>\n",
              "      <td>72633</td>\n",
              "      <td>21401</td>\n",
              "      <td>114335</td>\n",
              "      <td>22338</td>\n",
              "      <td>118304</td>\n",
              "      <td>124981</td>\n",
              "      <td>93203</td>\n",
              "      <td>81435</td>\n",
              "      <td>94333</td>\n",
              "    </tr>\n",
              "    <tr>\n",
              "      <th>320</th>\n",
              "      <td>138176</td>\n",
              "      <td>96936</td>\n",
              "      <td>121403</td>\n",
              "      <td>1447</td>\n",
              "      <td>51460</td>\n",
              "      <td>125012</td>\n",
              "      <td>88932</td>\n",
              "      <td>42944</td>\n",
              "      <td>5268</td>\n",
              "      <td>104529</td>\n",
              "      <td>12930</td>\n",
              "      <td>13927</td>\n",
              "      <td>129869</td>\n",
              "      <td>27142</td>\n",
              "      <td>51255</td>\n",
              "      <td>100240</td>\n",
              "      <td>128079</td>\n",
              "      <td>21401</td>\n",
              "      <td>114335</td>\n",
              "      <td>104732</td>\n",
              "      <td>121987</td>\n",
              "      <td>102549</td>\n",
              "      <td>118304</td>\n",
              "      <td>86309</td>\n",
              "      <td>94333</td>\n",
              "      <td>124981</td>\n",
              "      <td>93203</td>\n",
              "      <td>80585</td>\n",
              "      <td>136037</td>\n",
              "      <td>22338</td>\n",
              "    </tr>\n",
              "    <tr>\n",
              "      <th>359</th>\n",
              "      <td>138176</td>\n",
              "      <td>1447</td>\n",
              "      <td>5268</td>\n",
              "      <td>96936</td>\n",
              "      <td>100240</td>\n",
              "      <td>21401</td>\n",
              "      <td>88932</td>\n",
              "      <td>13927</td>\n",
              "      <td>104732</td>\n",
              "      <td>72633</td>\n",
              "      <td>121403</td>\n",
              "      <td>51255</td>\n",
              "      <td>42944</td>\n",
              "      <td>124981</td>\n",
              "      <td>128079</td>\n",
              "      <td>86309</td>\n",
              "      <td>65255</td>\n",
              "      <td>54114</td>\n",
              "      <td>93203</td>\n",
              "      <td>129869</td>\n",
              "      <td>12930</td>\n",
              "      <td>121987</td>\n",
              "      <td>114335</td>\n",
              "      <td>125012</td>\n",
              "      <td>51460</td>\n",
              "      <td>118304</td>\n",
              "      <td>57474</td>\n",
              "      <td>27142</td>\n",
              "      <td>80585</td>\n",
              "      <td>22338</td>\n",
              "    </tr>\n",
              "    <tr>\n",
              "      <th>370</th>\n",
              "      <td>86309</td>\n",
              "      <td>44194</td>\n",
              "      <td>138176</td>\n",
              "      <td>24802</td>\n",
              "      <td>129869</td>\n",
              "      <td>96936</td>\n",
              "      <td>1447</td>\n",
              "      <td>104529</td>\n",
              "      <td>94333</td>\n",
              "      <td>88932</td>\n",
              "      <td>51460</td>\n",
              "      <td>51255</td>\n",
              "      <td>12930</td>\n",
              "      <td>124454</td>\n",
              "      <td>5268</td>\n",
              "      <td>125012</td>\n",
              "      <td>104732</td>\n",
              "      <td>88455</td>\n",
              "      <td>54114</td>\n",
              "      <td>93203</td>\n",
              "      <td>124981</td>\n",
              "      <td>27142</td>\n",
              "      <td>102549</td>\n",
              "      <td>120308</td>\n",
              "      <td>54643</td>\n",
              "      <td>42944</td>\n",
              "      <td>80585</td>\n",
              "      <td>13927</td>\n",
              "      <td>21401</td>\n",
              "      <td>136037</td>\n",
              "    </tr>\n",
              "    <tr>\n",
              "      <th>910</th>\n",
              "      <td>96936</td>\n",
              "      <td>107991</td>\n",
              "      <td>138176</td>\n",
              "      <td>27142</td>\n",
              "      <td>51460</td>\n",
              "      <td>125012</td>\n",
              "      <td>88932</td>\n",
              "      <td>100240</td>\n",
              "      <td>72633</td>\n",
              "      <td>129869</td>\n",
              "      <td>1447</td>\n",
              "      <td>104732</td>\n",
              "      <td>121987</td>\n",
              "      <td>104529</td>\n",
              "      <td>124454</td>\n",
              "      <td>80070</td>\n",
              "      <td>12930</td>\n",
              "      <td>128079</td>\n",
              "      <td>13927</td>\n",
              "      <td>118304</td>\n",
              "      <td>36624</td>\n",
              "      <td>51255</td>\n",
              "      <td>94333</td>\n",
              "      <td>42944</td>\n",
              "      <td>121403</td>\n",
              "      <td>80585</td>\n",
              "      <td>61755</td>\n",
              "      <td>124981</td>\n",
              "      <td>88455</td>\n",
              "      <td>78908</td>\n",
              "    </tr>\n",
              "  </tbody>\n",
              "</table>\n",
              "</div>"
            ],
            "text/plain": [
              "          Top1    Top2    Top3   Top4  ...   Top27   Top28   Top29   Top30\n",
              "userId                                 ...                                \n",
              "316     138176  100240   96936  51460  ...  124981   93203   81435   94333\n",
              "320     138176   96936  121403   1447  ...   93203   80585  136037   22338\n",
              "359     138176    1447    5268  96936  ...   57474   27142   80585   22338\n",
              "370      86309   44194  138176  24802  ...   80585   13927   21401  136037\n",
              "910      96936  107991  138176  27142  ...   61755  124981   88455   78908\n",
              "\n",
              "[5 rows x 30 columns]"
            ]
          },
          "metadata": {
            "tags": []
          },
          "execution_count": 65
        }
      ]
    },
    {
      "cell_type": "code",
      "metadata": {
        "id": "FJlHCFabrCUK"
      },
      "source": [
        "def get_user_similar_movies( user1, user2 ):\n",
        "    common_movies = Rating_avg[Rating_avg.userId == user1].merge(\n",
        "    Rating_avg[Rating_avg.userId == user2],\n",
        "    on = \"movieId\",\n",
        "    how = \"inner\" )\n",
        "    return common_movies.merge( movies, on = 'movieId' )"
      ],
      "execution_count": null,
      "outputs": []
    },
    {
      "cell_type": "code",
      "metadata": {
        "colab": {
          "base_uri": "https://localhost:8080/",
          "height": 173
        },
        "id": "2mkijADtrD9T",
        "outputId": "349d3c99-5706-4062-dabb-242a9fd5721c"
      },
      "source": [
        "a = get_user_similar_movies(3,15)\n",
        "a = a.loc[ : , ['rating_x_x','rating_x_y','title']]\n",
        "a.head()"
      ],
      "execution_count": null,
      "outputs": [
        {
          "output_type": "execute_result",
          "data": {
            "text/html": [
              "<div>\n",
              "<style scoped>\n",
              "    .dataframe tbody tr th:only-of-type {\n",
              "        vertical-align: middle;\n",
              "    }\n",
              "\n",
              "    .dataframe tbody tr th {\n",
              "        vertical-align: top;\n",
              "    }\n",
              "\n",
              "    .dataframe thead th {\n",
              "        text-align: right;\n",
              "    }\n",
              "</style>\n",
              "<table border=\"1\" class=\"dataframe\">\n",
              "  <thead>\n",
              "    <tr style=\"text-align: right;\">\n",
              "      <th></th>\n",
              "      <th>rating_x_x</th>\n",
              "      <th>rating_x_y</th>\n",
              "      <th>title</th>\n",
              "    </tr>\n",
              "  </thead>\n",
              "  <tbody>\n",
              "    <tr>\n",
              "      <th>0</th>\n",
              "      <td>1.5</td>\n",
              "      <td>0.5</td>\n",
              "      <td>The Godfather</td>\n",
              "    </tr>\n",
              "    <tr>\n",
              "      <th>1</th>\n",
              "      <td>4.5</td>\n",
              "      <td>5.0</td>\n",
              "      <td>Forest Gump</td>\n",
              "    </tr>\n",
              "    <tr>\n",
              "      <th>2</th>\n",
              "      <td>3.0</td>\n",
              "      <td>5.0</td>\n",
              "      <td>Ace Ventura</td>\n",
              "    </tr>\n",
              "    <tr>\n",
              "      <th>3</th>\n",
              "      <td>4.0</td>\n",
              "      <td>4.5</td>\n",
              "      <td>Terminator</td>\n",
              "    </tr>\n",
              "  </tbody>\n",
              "</table>\n",
              "</div>"
            ],
            "text/plain": [
              "   rating_x_x  rating_x_y          title\n",
              "0         1.5         0.5  The Godfather\n",
              "1         4.5         5.0    Forest Gump\n",
              "2         3.0         5.0    Ace Ventura\n",
              "3         4.0         4.5     Terminator"
            ]
          },
          "metadata": {
            "tags": []
          },
          "execution_count": 151
        }
      ]
    },
    {
      "cell_type": "code",
      "metadata": {
        "id": "5FYGUl87rFr8"
      },
      "source": [
        "def User_item_score(user,item,no):\n",
        "    sim  = find_n_neighbours(similarity_with_movie,no)\n",
        "    a = sim[sim.index==user].values\n",
        "    b = a.squeeze().tolist()\n",
        "    c = final_movie.loc[:,item]\n",
        "    d = c[c.index.isin(b)]\n",
        "    f = d[d.notnull()]\n",
        "    avg_user = Mean.loc[Mean['userId'] == user,'rating'].values[0]\n",
        "    index = f.index.values.squeeze().tolist()\n",
        "    corr = similarity_with_movie.loc[user,index]\n",
        "    fin = pd.concat([f, corr], axis=1)\n",
        "    fin.columns = ['adg_score','correlation']\n",
        "    fin['score']=fin.apply(lambda x:x['adg_score'] * x['correlation'],axis=1)\n",
        "    nume = fin['score'].sum()\n",
        "    deno = fin['correlation'].sum()\n",
        "    final_score = avg_user + (nume/deno)\n",
        "    return final_score"
      ],
      "execution_count": null,
      "outputs": []
    },
    {
      "cell_type": "code",
      "metadata": {
        "colab": {
          "base_uri": "https://localhost:8080/"
        },
        "id": "1iQLgZ63rI7x",
        "outputId": "3423d509-5090-41d3-f0d7-ecb83fd06fea"
      },
      "source": [
        "score = User_item_score(4,5,10)\n",
        "print(\"score (user,item) is\",score)"
      ],
      "execution_count": null,
      "outputs": [
        {
          "output_type": "stream",
          "text": [
            "score (user,item) is 6.568470706490865\n"
          ],
          "name": "stdout"
        }
      ]
    },
    {
      "cell_type": "code",
      "metadata": {
        "colab": {
          "base_uri": "https://localhost:8080/"
        },
        "id": "ciOSKZc4r8Nm",
        "outputId": "25a34245-3d6b-48c9-ca52-68bb7a840da9"
      },
      "source": [
        "Rating_avg = Rating_avg.astype({\"movieId\": str})\n",
        "#watched movies list by user\n",
        "Movie_user = Rating_avg.groupby(by = 'userId')['movieId'].apply(lambda x:','.join(x))\n",
        "Movie_user"
      ],
      "execution_count": null,
      "outputs": [
        {
          "output_type": "execute_result",
          "data": {
            "text/plain": [
              "userId\n",
              "1                      1,2,3,4\n",
              "2             1,5,6,7,15,16,17\n",
              "3     1,2,4,8,9,10,11,15,16,17\n",
              "4                        10,17\n",
              "5                    1,2,15,16\n",
              "6                    1,2,12,13\n",
              "7                     1,2,3,15\n",
              "8               1,2,6,14,15,16\n",
              "9                    1,2,3,5,6\n",
              "10                        8,10\n",
              "11               1,2,7,9,16,17\n",
              "12           1,2,4,14,15,16,17\n",
              "13           10,11,12,14,15,17\n",
              "14                  1,10,14,17\n",
              "15                1,3,10,15,17\n",
              "16                     9,11,12\n",
              "Name: movieId, dtype: object"
            ]
          },
          "metadata": {
            "tags": []
          },
          "execution_count": 158
        }
      ]
    },
    {
      "cell_type": "code",
      "metadata": {
        "id": "_Q5CFqCfr_S6"
      },
      "source": [
        "def User_item_score1(user):\n",
        "    Movie_seen_by_user = check.columns[check[check.index==user].notna().any()].tolist()\n",
        "    a = sim_user_30_m[sim_user_30_m.index==user].values\n",
        "    b = a.squeeze().tolist()\n",
        "    d = Movie_user[Movie_user.index.isin(b)]\n",
        "    l = ','.join(d.values)\n",
        "    Movie_seen_by_similar_users = l.split(',')\n",
        "    Movies_under_consideration = list(set(Movie_seen_by_similar_users)-set(list(map(str, Movie_seen_by_user))))\n",
        "    Movies_under_consideration = list(map(int, Movies_under_consideration))\n",
        "    score = []\n",
        "    for item in Movies_under_consideration:\n",
        "        c = final_movie.loc[:,item]\n",
        "        d = c[c.index.isin(b)]\n",
        "        f = d[d.notnull()]\n",
        "        avg_user = Mean.loc[Mean['userId'] == user,'rating'].values[0]\n",
        "        index = f.index.values.squeeze().tolist()\n",
        "        corr = similarity_with_movie.loc[user,index]\n",
        "        fin = pd.concat([f, corr], axis=1)\n",
        "        fin.columns = ['adg_score','correlation']\n",
        "        fin['score']=fin.apply(lambda x:x['adg_score'] * x['correlation'],axis=1)\n",
        "        nume = fin['score'].sum()\n",
        "        deno = fin['correlation'].sum()\n",
        "        final_score = avg_user + (nume/deno)\n",
        "        score.append(final_score)\n",
        "    data = pd.DataFrame({'movieId':Movies_under_consideration,'score':score})\n",
        "    top_5_recommendation = data.sort_values(by='score',ascending=False).head(5)\n",
        "    Movie_Name = top_5_recommendation.merge(movies, how='inner', on='movieId')\n",
        "    Movie_Names = Movie_Name.title.values.tolist()\n",
        "    return Movie_Names"
      ],
      "execution_count": null,
      "outputs": []
    },
    {
      "cell_type": "code",
      "metadata": {
        "colab": {
          "base_uri": "https://localhost:8080/",
          "height": 369
        },
        "id": "Ly7Hb3znsDO9",
        "outputId": "67066db7-92fe-4f0c-8fcc-1ee911c37b1f"
      },
      "source": [
        "user = int(input(\"Enter the user id to whom you want to recommend : \"))\n",
        "predicted_movies = User_item_score1(user)\n",
        "print(\" \")\n",
        "print(\"The Recommendations for User Id :\"+str(user))\n",
        "print(\"   \")\n",
        "for i in predicted_movies:\n",
        "    print(i)"
      ],
      "execution_count": null,
      "outputs": [
        {
          "output_type": "stream",
          "text": [
            "Enter the user id to whom you want to recommend : 3\n"
          ],
          "name": "stdout"
        },
        {
          "output_type": "error",
          "ename": "ValueError",
          "evalue": "ignored",
          "traceback": [
            "\u001b[0;31m---------------------------------------------------------------------------\u001b[0m",
            "\u001b[0;31mValueError\u001b[0m                                Traceback (most recent call last)",
            "\u001b[0;32m<ipython-input-226-490fe848c324>\u001b[0m in \u001b[0;36m<module>\u001b[0;34m()\u001b[0m\n\u001b[1;32m      1\u001b[0m \u001b[0muser\u001b[0m \u001b[0;34m=\u001b[0m \u001b[0mint\u001b[0m\u001b[0;34m(\u001b[0m\u001b[0minput\u001b[0m\u001b[0;34m(\u001b[0m\u001b[0;34m\"Enter the user id to whom you want to recommend : \"\u001b[0m\u001b[0;34m)\u001b[0m\u001b[0;34m)\u001b[0m\u001b[0;34m\u001b[0m\u001b[0;34m\u001b[0m\u001b[0m\n\u001b[0;32m----> 2\u001b[0;31m \u001b[0mpredicted_movies\u001b[0m \u001b[0;34m=\u001b[0m \u001b[0mUser_item_score1\u001b[0m\u001b[0;34m(\u001b[0m\u001b[0muser\u001b[0m\u001b[0;34m)\u001b[0m\u001b[0;34m\u001b[0m\u001b[0;34m\u001b[0m\u001b[0m\n\u001b[0m\u001b[1;32m      3\u001b[0m \u001b[0mprint\u001b[0m\u001b[0;34m(\u001b[0m\u001b[0;34m\" \"\u001b[0m\u001b[0;34m)\u001b[0m\u001b[0;34m\u001b[0m\u001b[0;34m\u001b[0m\u001b[0m\n\u001b[1;32m      4\u001b[0m \u001b[0mprint\u001b[0m\u001b[0;34m(\u001b[0m\u001b[0;34m\"The Recommendations for User Id :\"\u001b[0m\u001b[0;34m+\u001b[0m\u001b[0mstr\u001b[0m\u001b[0;34m(\u001b[0m\u001b[0muser\u001b[0m\u001b[0;34m)\u001b[0m\u001b[0;34m)\u001b[0m\u001b[0;34m\u001b[0m\u001b[0;34m\u001b[0m\u001b[0m\n\u001b[1;32m      5\u001b[0m \u001b[0mprint\u001b[0m\u001b[0;34m(\u001b[0m\u001b[0;34m\"   \"\u001b[0m\u001b[0;34m)\u001b[0m\u001b[0;34m\u001b[0m\u001b[0;34m\u001b[0m\u001b[0m\n",
            "\u001b[0;32m<ipython-input-224-3bf0a133a28a>\u001b[0m in \u001b[0;36mUser_item_score1\u001b[0;34m(user)\u001b[0m\n\u001b[1;32m      7\u001b[0m     \u001b[0mMovie_seen_by_similar_users\u001b[0m \u001b[0;34m=\u001b[0m \u001b[0ml\u001b[0m\u001b[0;34m.\u001b[0m\u001b[0msplit\u001b[0m\u001b[0;34m(\u001b[0m\u001b[0;34m','\u001b[0m\u001b[0;34m)\u001b[0m\u001b[0;34m\u001b[0m\u001b[0;34m\u001b[0m\u001b[0m\n\u001b[1;32m      8\u001b[0m     \u001b[0mMovies_under_consideration\u001b[0m \u001b[0;34m=\u001b[0m \u001b[0mlist\u001b[0m\u001b[0;34m(\u001b[0m\u001b[0mset\u001b[0m\u001b[0;34m(\u001b[0m\u001b[0mMovie_seen_by_similar_users\u001b[0m\u001b[0;34m)\u001b[0m\u001b[0;34m-\u001b[0m\u001b[0mset\u001b[0m\u001b[0;34m(\u001b[0m\u001b[0mlist\u001b[0m\u001b[0;34m(\u001b[0m\u001b[0mmap\u001b[0m\u001b[0;34m(\u001b[0m\u001b[0mstr\u001b[0m\u001b[0;34m,\u001b[0m \u001b[0mMovie_seen_by_user\u001b[0m\u001b[0;34m)\u001b[0m\u001b[0;34m)\u001b[0m\u001b[0;34m)\u001b[0m\u001b[0;34m)\u001b[0m\u001b[0;34m\u001b[0m\u001b[0;34m\u001b[0m\u001b[0m\n\u001b[0;32m----> 9\u001b[0;31m     \u001b[0mMovies_under_consideration\u001b[0m \u001b[0;34m=\u001b[0m \u001b[0mlist\u001b[0m\u001b[0;34m(\u001b[0m\u001b[0mmap\u001b[0m\u001b[0;34m(\u001b[0m\u001b[0mint\u001b[0m\u001b[0;34m,\u001b[0m \u001b[0mMovies_under_consideration\u001b[0m\u001b[0;34m)\u001b[0m\u001b[0;34m)\u001b[0m\u001b[0;34m\u001b[0m\u001b[0;34m\u001b[0m\u001b[0m\n\u001b[0m\u001b[1;32m     10\u001b[0m     \u001b[0mscore\u001b[0m \u001b[0;34m=\u001b[0m \u001b[0;34m[\u001b[0m\u001b[0;34m]\u001b[0m\u001b[0;34m\u001b[0m\u001b[0;34m\u001b[0m\u001b[0m\n\u001b[1;32m     11\u001b[0m     \u001b[0;32mfor\u001b[0m \u001b[0mitem\u001b[0m \u001b[0;32min\u001b[0m \u001b[0mMovies_under_consideration\u001b[0m\u001b[0;34m:\u001b[0m\u001b[0;34m\u001b[0m\u001b[0;34m\u001b[0m\u001b[0m\n",
            "\u001b[0;31mValueError\u001b[0m: invalid literal for int() with base 10: ''"
          ]
        }
      ]
    },
    {
      "cell_type": "markdown",
      "metadata": {
        "id": "6cpNGxuFqhbK"
      },
      "source": [
        "#MYSELF"
      ]
    },
    {
      "cell_type": "code",
      "metadata": {
        "id": "8q8q6uQbrjBH"
      },
      "source": [
        "data=pd.DataFrame(watched)\n",
        "data=data.T"
      ],
      "execution_count": null,
      "outputs": []
    },
    {
      "cell_type": "code",
      "metadata": {
        "id": "JBsc5HV4riQI"
      },
      "source": [
        "mean_rating_user=data.mean(axis=1)\n",
        "adj_rating=data.T-mean_rating_user\n",
        "adj_rating=adj_rating.T\n",
        "adj_rating"
      ],
      "execution_count": null,
      "outputs": []
    },
    {
      "cell_type": "code",
      "metadata": {
        "id": "kbxKmlqmL9xq"
      },
      "source": [
        "final_user=adj_rating.fillna(adj_rating.mean(axis=1))\n",
        "final_movie=adj_rating.apply(lambda row: row.fillna(row.mean()),axis=0)"
      ],
      "execution_count": null,
      "outputs": []
    },
    {
      "cell_type": "code",
      "metadata": {
        "colab": {
          "base_uri": "https://localhost:8080/",
          "height": 562
        },
        "id": "byegGVvIMGM3",
        "outputId": "572e8a19-00b9-4b6b-e028-7a4e10a58362"
      },
      "source": [
        "final_movie"
      ],
      "execution_count": null,
      "outputs": [
        {
          "output_type": "execute_result",
          "data": {
            "text/html": [
              "<div>\n",
              "<style scoped>\n",
              "    .dataframe tbody tr th:only-of-type {\n",
              "        vertical-align: middle;\n",
              "    }\n",
              "\n",
              "    .dataframe tbody tr th {\n",
              "        vertical-align: top;\n",
              "    }\n",
              "\n",
              "    .dataframe thead th {\n",
              "        text-align: right;\n",
              "    }\n",
              "</style>\n",
              "<table border=\"1\" class=\"dataframe\">\n",
              "  <thead>\n",
              "    <tr style=\"text-align: right;\">\n",
              "      <th></th>\n",
              "      <th>The Godfather</th>\n",
              "      <th>Yes Man</th>\n",
              "      <th>Apocalypse Now</th>\n",
              "      <th>Jaws</th>\n",
              "      <th>The Shawshank Redemption</th>\n",
              "      <th>Interstellar</th>\n",
              "      <th>The Green Mile</th>\n",
              "      <th>Finding Nemo</th>\n",
              "      <th>Saving Private Ryan</th>\n",
              "      <th>Forest Gump</th>\n",
              "      <th>Harry Potter</th>\n",
              "      <th>Inception</th>\n",
              "      <th>Goodfellas</th>\n",
              "      <th>Whiplash</th>\n",
              "    </tr>\n",
              "  </thead>\n",
              "  <tbody>\n",
              "    <tr>\n",
              "      <th>User1</th>\n",
              "      <td>1.177500</td>\n",
              "      <td>0.467500</td>\n",
              "      <td>1.177500</td>\n",
              "      <td>-2.822500</td>\n",
              "      <td>1.5015</td>\n",
              "      <td>1.197667</td>\n",
              "      <td>1.56125</td>\n",
              "      <td>0.63</td>\n",
              "      <td>1.01875</td>\n",
              "      <td>-0.5675</td>\n",
              "      <td>-0.244375</td>\n",
              "      <td>0.9350</td>\n",
              "      <td>0.891667</td>\n",
              "      <td>-0.0925</td>\n",
              "    </tr>\n",
              "    <tr>\n",
              "      <th>User2</th>\n",
              "      <td>-2.675000</td>\n",
              "      <td>-0.346318</td>\n",
              "      <td>0.105167</td>\n",
              "      <td>-0.438125</td>\n",
              "      <td>0.8850</td>\n",
              "      <td>0.925000</td>\n",
              "      <td>0.86500</td>\n",
              "      <td>0.63</td>\n",
              "      <td>1.01875</td>\n",
              "      <td>-0.5675</td>\n",
              "      <td>-0.244375</td>\n",
              "      <td>0.9350</td>\n",
              "      <td>0.891667</td>\n",
              "      <td>-0.0925</td>\n",
              "    </tr>\n",
              "    <tr>\n",
              "      <th>User3</th>\n",
              "      <td>-2.570000</td>\n",
              "      <td>-2.100000</td>\n",
              "      <td>0.105167</td>\n",
              "      <td>1.070000</td>\n",
              "      <td>1.5015</td>\n",
              "      <td>1.197667</td>\n",
              "      <td>1.56125</td>\n",
              "      <td>1.18</td>\n",
              "      <td>0.96000</td>\n",
              "      <td>0.5100</td>\n",
              "      <td>0.950000</td>\n",
              "      <td>0.9350</td>\n",
              "      <td>0.891667</td>\n",
              "      <td>-0.0925</td>\n",
              "    </tr>\n",
              "    <tr>\n",
              "      <th>User4</th>\n",
              "      <td>-0.701214</td>\n",
              "      <td>-0.346318</td>\n",
              "      <td>0.105167</td>\n",
              "      <td>-0.438125</td>\n",
              "      <td>1.5015</td>\n",
              "      <td>1.197667</td>\n",
              "      <td>1.56125</td>\n",
              "      <td>0.63</td>\n",
              "      <td>1.01875</td>\n",
              "      <td>0.0000</td>\n",
              "      <td>-0.244375</td>\n",
              "      <td>0.9350</td>\n",
              "      <td>0.891667</td>\n",
              "      <td>-0.0925</td>\n",
              "    </tr>\n",
              "    <tr>\n",
              "      <th>User5</th>\n",
              "      <td>-0.490000</td>\n",
              "      <td>0.490000</td>\n",
              "      <td>0.105167</td>\n",
              "      <td>-0.438125</td>\n",
              "      <td>1.5015</td>\n",
              "      <td>1.197667</td>\n",
              "      <td>1.56125</td>\n",
              "      <td>0.63</td>\n",
              "      <td>1.01875</td>\n",
              "      <td>-0.5675</td>\n",
              "      <td>-0.244375</td>\n",
              "      <td>0.9350</td>\n",
              "      <td>0.891667</td>\n",
              "      <td>-0.0925</td>\n",
              "    </tr>\n",
              "    <tr>\n",
              "      <th>User6</th>\n",
              "      <td>-1.242500</td>\n",
              "      <td>-0.022500</td>\n",
              "      <td>0.105167</td>\n",
              "      <td>-0.438125</td>\n",
              "      <td>1.5015</td>\n",
              "      <td>1.197667</td>\n",
              "      <td>1.56125</td>\n",
              "      <td>0.63</td>\n",
              "      <td>1.01875</td>\n",
              "      <td>-0.5675</td>\n",
              "      <td>-0.244375</td>\n",
              "      <td>0.6875</td>\n",
              "      <td>0.577500</td>\n",
              "      <td>-0.0925</td>\n",
              "    </tr>\n",
              "    <tr>\n",
              "      <th>User7</th>\n",
              "      <td>-0.090000</td>\n",
              "      <td>-0.280000</td>\n",
              "      <td>0.370000</td>\n",
              "      <td>-0.438125</td>\n",
              "      <td>1.5015</td>\n",
              "      <td>1.197667</td>\n",
              "      <td>1.56125</td>\n",
              "      <td>0.63</td>\n",
              "      <td>1.01875</td>\n",
              "      <td>-0.5675</td>\n",
              "      <td>-0.244375</td>\n",
              "      <td>0.9350</td>\n",
              "      <td>0.891667</td>\n",
              "      <td>-0.0925</td>\n",
              "    </tr>\n",
              "    <tr>\n",
              "      <th>User8</th>\n",
              "      <td>-1.670000</td>\n",
              "      <td>-0.550000</td>\n",
              "      <td>0.105167</td>\n",
              "      <td>-0.438125</td>\n",
              "      <td>1.5015</td>\n",
              "      <td>1.110000</td>\n",
              "      <td>1.56125</td>\n",
              "      <td>0.63</td>\n",
              "      <td>1.01875</td>\n",
              "      <td>-0.5675</td>\n",
              "      <td>-0.244375</td>\n",
              "      <td>0.9350</td>\n",
              "      <td>0.891667</td>\n",
              "      <td>1.1100</td>\n",
              "    </tr>\n",
              "    <tr>\n",
              "      <th>User9</th>\n",
              "      <td>-1.742000</td>\n",
              "      <td>-0.702000</td>\n",
              "      <td>-1.232000</td>\n",
              "      <td>-0.438125</td>\n",
              "      <td>2.1180</td>\n",
              "      <td>1.558000</td>\n",
              "      <td>1.56125</td>\n",
              "      <td>0.63</td>\n",
              "      <td>1.01875</td>\n",
              "      <td>-0.5675</td>\n",
              "      <td>-0.244375</td>\n",
              "      <td>0.9350</td>\n",
              "      <td>0.891667</td>\n",
              "      <td>-0.0925</td>\n",
              "    </tr>\n",
              "    <tr>\n",
              "      <th>User10</th>\n",
              "      <td>-0.701214</td>\n",
              "      <td>-0.346318</td>\n",
              "      <td>0.105167</td>\n",
              "      <td>-0.438125</td>\n",
              "      <td>1.5015</td>\n",
              "      <td>1.197667</td>\n",
              "      <td>1.56125</td>\n",
              "      <td>0.08</td>\n",
              "      <td>1.01875</td>\n",
              "      <td>-0.0800</td>\n",
              "      <td>-0.244375</td>\n",
              "      <td>0.9350</td>\n",
              "      <td>0.891667</td>\n",
              "      <td>-0.0925</td>\n",
              "    </tr>\n",
              "    <tr>\n",
              "      <th>User11</th>\n",
              "      <td>-1.662500</td>\n",
              "      <td>-1.672500</td>\n",
              "      <td>0.105167</td>\n",
              "      <td>-0.438125</td>\n",
              "      <td>1.5015</td>\n",
              "      <td>1.197667</td>\n",
              "      <td>2.25750</td>\n",
              "      <td>0.63</td>\n",
              "      <td>1.07750</td>\n",
              "      <td>-0.5675</td>\n",
              "      <td>-0.244375</td>\n",
              "      <td>0.9350</td>\n",
              "      <td>0.891667</td>\n",
              "      <td>-0.0925</td>\n",
              "    </tr>\n",
              "    <tr>\n",
              "      <th>User12</th>\n",
              "      <td>1.685000</td>\n",
              "      <td>1.685000</td>\n",
              "      <td>0.105167</td>\n",
              "      <td>-2.075000</td>\n",
              "      <td>1.5015</td>\n",
              "      <td>1.197667</td>\n",
              "      <td>1.56125</td>\n",
              "      <td>0.63</td>\n",
              "      <td>1.01875</td>\n",
              "      <td>-0.5675</td>\n",
              "      <td>-0.244375</td>\n",
              "      <td>0.9350</td>\n",
              "      <td>0.891667</td>\n",
              "      <td>-1.2950</td>\n",
              "    </tr>\n",
              "    <tr>\n",
              "      <th>User13</th>\n",
              "      <td>0.247500</td>\n",
              "      <td>-0.346318</td>\n",
              "      <td>0.105167</td>\n",
              "      <td>-0.438125</td>\n",
              "      <td>1.5015</td>\n",
              "      <td>1.197667</td>\n",
              "      <td>1.56125</td>\n",
              "      <td>0.63</td>\n",
              "      <td>1.01875</td>\n",
              "      <td>-0.5675</td>\n",
              "      <td>-2.612500</td>\n",
              "      <td>1.2475</td>\n",
              "      <td>1.117500</td>\n",
              "      <td>-0.0925</td>\n",
              "    </tr>\n",
              "    <tr>\n",
              "      <th>User14</th>\n",
              "      <td>0.220000</td>\n",
              "      <td>1.170000</td>\n",
              "      <td>0.105167</td>\n",
              "      <td>-0.438125</td>\n",
              "      <td>1.5015</td>\n",
              "      <td>1.197667</td>\n",
              "      <td>1.56125</td>\n",
              "      <td>0.63</td>\n",
              "      <td>1.01875</td>\n",
              "      <td>-0.5675</td>\n",
              "      <td>-1.390000</td>\n",
              "      <td>0.9350</td>\n",
              "      <td>0.891667</td>\n",
              "      <td>-0.0925</td>\n",
              "    </tr>\n",
              "    <tr>\n",
              "      <th>User15</th>\n",
              "      <td>-1.855000</td>\n",
              "      <td>-2.295000</td>\n",
              "      <td>0.105167</td>\n",
              "      <td>2.075000</td>\n",
              "      <td>1.5015</td>\n",
              "      <td>1.197667</td>\n",
              "      <td>1.56125</td>\n",
              "      <td>0.63</td>\n",
              "      <td>1.01875</td>\n",
              "      <td>-0.5675</td>\n",
              "      <td>2.075000</td>\n",
              "      <td>0.9350</td>\n",
              "      <td>0.891667</td>\n",
              "      <td>-0.0925</td>\n",
              "    </tr>\n",
              "    <tr>\n",
              "      <th>User16</th>\n",
              "      <td>0.850000</td>\n",
              "      <td>-0.346318</td>\n",
              "      <td>0.105167</td>\n",
              "      <td>-0.438125</td>\n",
              "      <td>1.5015</td>\n",
              "      <td>1.197667</td>\n",
              "      <td>1.56125</td>\n",
              "      <td>0.63</td>\n",
              "      <td>1.01875</td>\n",
              "      <td>-2.7000</td>\n",
              "      <td>-0.244375</td>\n",
              "      <td>0.8700</td>\n",
              "      <td>0.980000</td>\n",
              "      <td>-0.0925</td>\n",
              "    </tr>\n",
              "  </tbody>\n",
              "</table>\n",
              "</div>"
            ],
            "text/plain": [
              "        The Godfather   Yes Man  ...  Goodfellas  Whiplash\n",
              "User1        1.177500  0.467500  ...    0.891667   -0.0925\n",
              "User2       -2.675000 -0.346318  ...    0.891667   -0.0925\n",
              "User3       -2.570000 -2.100000  ...    0.891667   -0.0925\n",
              "User4       -0.701214 -0.346318  ...    0.891667   -0.0925\n",
              "User5       -0.490000  0.490000  ...    0.891667   -0.0925\n",
              "User6       -1.242500 -0.022500  ...    0.577500   -0.0925\n",
              "User7       -0.090000 -0.280000  ...    0.891667   -0.0925\n",
              "User8       -1.670000 -0.550000  ...    0.891667    1.1100\n",
              "User9       -1.742000 -0.702000  ...    0.891667   -0.0925\n",
              "User10      -0.701214 -0.346318  ...    0.891667   -0.0925\n",
              "User11      -1.662500 -1.672500  ...    0.891667   -0.0925\n",
              "User12       1.685000  1.685000  ...    0.891667   -1.2950\n",
              "User13       0.247500 -0.346318  ...    1.117500   -0.0925\n",
              "User14       0.220000  1.170000  ...    0.891667   -0.0925\n",
              "User15      -1.855000 -2.295000  ...    0.891667   -0.0925\n",
              "User16       0.850000 -0.346318  ...    0.980000   -0.0925\n",
              "\n",
              "[16 rows x 14 columns]"
            ]
          },
          "metadata": {
            "tags": []
          },
          "execution_count": 31
        }
      ]
    },
    {
      "cell_type": "code",
      "metadata": {
        "id": "taQzE9uUNXG-"
      },
      "source": [
        "from sklearn.metrics.pairwise import cosine_similarity\n",
        "from sklearn.metrics import pairwise_distances"
      ],
      "execution_count": null,
      "outputs": []
    },
    {
      "cell_type": "code",
      "metadata": {
        "colab": {
          "base_uri": "https://localhost:8080/",
          "height": 204
        },
        "id": "RvOx9J8dOJB4",
        "outputId": "cc6a340e-add5-497d-81c4-1e9ff8b5b234"
      },
      "source": [
        "#user similarity (movie average)\n",
        "cosine=cosine_similarity(final_movie)\n",
        "np.fill_diagonal(cosine,0)\n",
        "sim_movie=pd.DataFrame(cosine,index=final_user.index)\n",
        "sim_movie.columns=final_user.index\n",
        "sim_movie.head()"
      ],
      "execution_count": null,
      "outputs": [
        {
          "output_type": "execute_result",
          "data": {
            "text/html": [
              "<div>\n",
              "<style scoped>\n",
              "    .dataframe tbody tr th:only-of-type {\n",
              "        vertical-align: middle;\n",
              "    }\n",
              "\n",
              "    .dataframe tbody tr th {\n",
              "        vertical-align: top;\n",
              "    }\n",
              "\n",
              "    .dataframe thead th {\n",
              "        text-align: right;\n",
              "    }\n",
              "</style>\n",
              "<table border=\"1\" class=\"dataframe\">\n",
              "  <thead>\n",
              "    <tr style=\"text-align: right;\">\n",
              "      <th></th>\n",
              "      <th>User1</th>\n",
              "      <th>User2</th>\n",
              "      <th>User3</th>\n",
              "      <th>User4</th>\n",
              "      <th>User5</th>\n",
              "      <th>User6</th>\n",
              "      <th>User7</th>\n",
              "      <th>User8</th>\n",
              "      <th>User9</th>\n",
              "      <th>User10</th>\n",
              "      <th>User11</th>\n",
              "      <th>User12</th>\n",
              "      <th>User13</th>\n",
              "      <th>User14</th>\n",
              "      <th>User15</th>\n",
              "      <th>User16</th>\n",
              "    </tr>\n",
              "  </thead>\n",
              "  <tbody>\n",
              "    <tr>\n",
              "      <th>User1</th>\n",
              "      <td>0.000000</td>\n",
              "      <td>0.321465</td>\n",
              "      <td>0.095588</td>\n",
              "      <td>0.670408</td>\n",
              "      <td>0.730223</td>\n",
              "      <td>0.611853</td>\n",
              "      <td>0.769328</td>\n",
              "      <td>0.504365</td>\n",
              "      <td>0.434653</td>\n",
              "      <td>0.662234</td>\n",
              "      <td>0.485568</td>\n",
              "      <td>0.883208</td>\n",
              "      <td>0.634662</td>\n",
              "      <td>0.734577</td>\n",
              "      <td>0.002719</td>\n",
              "      <td>0.684035</td>\n",
              "    </tr>\n",
              "    <tr>\n",
              "      <th>User2</th>\n",
              "      <td>0.321465</td>\n",
              "      <td>0.000000</td>\n",
              "      <td>0.780143</td>\n",
              "      <td>0.787874</td>\n",
              "      <td>0.735161</td>\n",
              "      <td>0.869810</td>\n",
              "      <td>0.677936</td>\n",
              "      <td>0.875762</td>\n",
              "      <td>0.844491</td>\n",
              "      <td>0.776866</td>\n",
              "      <td>0.845556</td>\n",
              "      <td>0.191070</td>\n",
              "      <td>0.518180</td>\n",
              "      <td>0.511538</td>\n",
              "      <td>0.610602</td>\n",
              "      <td>0.426737</td>\n",
              "    </tr>\n",
              "    <tr>\n",
              "      <th>User3</th>\n",
              "      <td>0.095588</td>\n",
              "      <td>0.780143</td>\n",
              "      <td>0.000000</td>\n",
              "      <td>0.737972</td>\n",
              "      <td>0.564597</td>\n",
              "      <td>0.718360</td>\n",
              "      <td>0.612289</td>\n",
              "      <td>0.762065</td>\n",
              "      <td>0.763089</td>\n",
              "      <td>0.706732</td>\n",
              "      <td>0.846604</td>\n",
              "      <td>-0.043095</td>\n",
              "      <td>0.335804</td>\n",
              "      <td>0.252933</td>\n",
              "      <td>0.916891</td>\n",
              "      <td>0.295602</td>\n",
              "    </tr>\n",
              "    <tr>\n",
              "      <th>User4</th>\n",
              "      <td>0.670408</td>\n",
              "      <td>0.787874</td>\n",
              "      <td>0.737972</td>\n",
              "      <td>0.000000</td>\n",
              "      <td>0.947826</td>\n",
              "      <td>0.957499</td>\n",
              "      <td>0.961784</td>\n",
              "      <td>0.896817</td>\n",
              "      <td>0.900904</td>\n",
              "      <td>0.984617</td>\n",
              "      <td>0.914342</td>\n",
              "      <td>0.583782</td>\n",
              "      <td>0.781776</td>\n",
              "      <td>0.800810</td>\n",
              "      <td>0.602101</td>\n",
              "      <td>0.676281</td>\n",
              "    </tr>\n",
              "    <tr>\n",
              "      <th>User5</th>\n",
              "      <td>0.730223</td>\n",
              "      <td>0.735161</td>\n",
              "      <td>0.564597</td>\n",
              "      <td>0.947826</td>\n",
              "      <td>0.000000</td>\n",
              "      <td>0.952523</td>\n",
              "      <td>0.959620</td>\n",
              "      <td>0.847539</td>\n",
              "      <td>0.846160</td>\n",
              "      <td>0.936282</td>\n",
              "      <td>0.801485</td>\n",
              "      <td>0.719292</td>\n",
              "      <td>0.780746</td>\n",
              "      <td>0.909249</td>\n",
              "      <td>0.477012</td>\n",
              "      <td>0.775356</td>\n",
              "    </tr>\n",
              "  </tbody>\n",
              "</table>\n",
              "</div>"
            ],
            "text/plain": [
              "          User1     User2     User3  ...    User14    User15    User16\n",
              "User1  0.000000  0.321465  0.095588  ...  0.734577  0.002719  0.684035\n",
              "User2  0.321465  0.000000  0.780143  ...  0.511538  0.610602  0.426737\n",
              "User3  0.095588  0.780143  0.000000  ...  0.252933  0.916891  0.295602\n",
              "User4  0.670408  0.787874  0.737972  ...  0.800810  0.602101  0.676281\n",
              "User5  0.730223  0.735161  0.564597  ...  0.909249  0.477012  0.775356\n",
              "\n",
              "[5 rows x 16 columns]"
            ]
          },
          "metadata": {
            "tags": []
          },
          "execution_count": 32
        }
      ]
    },
    {
      "cell_type": "code",
      "metadata": {
        "id": "ohy0rx6cOhMD"
      },
      "source": [
        "def find_neighbours(data,n):\n",
        "  order = np.argsort(data.values, axis=1)[:, :n]\n",
        "  data = data.apply(lambda x: pd.Series(x.sort_values(ascending=False).iloc[:n].index,index=['top{}'.format(i) for i in range(1, n+1)]), axis=1)\n",
        "  return data\n"
      ],
      "execution_count": null,
      "outputs": []
    },
    {
      "cell_type": "code",
      "metadata": {
        "colab": {
          "base_uri": "https://localhost:8080/",
          "height": 204
        },
        "id": "l77pHD9oRazO",
        "outputId": "0372060f-7d31-48ff-8ed7-df687f880ca3"
      },
      "source": [
        "sim_user_4=find_neighbours(sim_movie,4)\n",
        "sim_user_4.head()"
      ],
      "execution_count": null,
      "outputs": [
        {
          "output_type": "execute_result",
          "data": {
            "text/html": [
              "<div>\n",
              "<style scoped>\n",
              "    .dataframe tbody tr th:only-of-type {\n",
              "        vertical-align: middle;\n",
              "    }\n",
              "\n",
              "    .dataframe tbody tr th {\n",
              "        vertical-align: top;\n",
              "    }\n",
              "\n",
              "    .dataframe thead th {\n",
              "        text-align: right;\n",
              "    }\n",
              "</style>\n",
              "<table border=\"1\" class=\"dataframe\">\n",
              "  <thead>\n",
              "    <tr style=\"text-align: right;\">\n",
              "      <th></th>\n",
              "      <th>top1</th>\n",
              "      <th>top2</th>\n",
              "      <th>top3</th>\n",
              "      <th>top4</th>\n",
              "    </tr>\n",
              "  </thead>\n",
              "  <tbody>\n",
              "    <tr>\n",
              "      <th>User1</th>\n",
              "      <td>User12</td>\n",
              "      <td>User7</td>\n",
              "      <td>User14</td>\n",
              "      <td>User5</td>\n",
              "    </tr>\n",
              "    <tr>\n",
              "      <th>User2</th>\n",
              "      <td>User8</td>\n",
              "      <td>User6</td>\n",
              "      <td>User11</td>\n",
              "      <td>User9</td>\n",
              "    </tr>\n",
              "    <tr>\n",
              "      <th>User3</th>\n",
              "      <td>User15</td>\n",
              "      <td>User11</td>\n",
              "      <td>User2</td>\n",
              "      <td>User9</td>\n",
              "    </tr>\n",
              "    <tr>\n",
              "      <th>User4</th>\n",
              "      <td>User10</td>\n",
              "      <td>User7</td>\n",
              "      <td>User6</td>\n",
              "      <td>User5</td>\n",
              "    </tr>\n",
              "    <tr>\n",
              "      <th>User5</th>\n",
              "      <td>User7</td>\n",
              "      <td>User6</td>\n",
              "      <td>User4</td>\n",
              "      <td>User10</td>\n",
              "    </tr>\n",
              "  </tbody>\n",
              "</table>\n",
              "</div>"
            ],
            "text/plain": [
              "         top1    top2    top3    top4\n",
              "User1  User12   User7  User14   User5\n",
              "User2   User8   User6  User11   User9\n",
              "User3  User15  User11   User2   User9\n",
              "User4  User10   User7   User6   User5\n",
              "User5   User7   User6   User4  User10"
            ]
          },
          "metadata": {
            "tags": []
          },
          "execution_count": 34
        }
      ]
    },
    {
      "cell_type": "code",
      "metadata": {
        "colab": {
          "base_uri": "https://localhost:8080/",
          "height": 562
        },
        "id": "Jl2zvkpRRsTD",
        "outputId": "4d345a85-9344-4dcc-9e94-a7bd81555ebb"
      },
      "source": [
        "data"
      ],
      "execution_count": null,
      "outputs": [
        {
          "output_type": "execute_result",
          "data": {
            "text/html": [
              "<div>\n",
              "<style scoped>\n",
              "    .dataframe tbody tr th:only-of-type {\n",
              "        vertical-align: middle;\n",
              "    }\n",
              "\n",
              "    .dataframe tbody tr th {\n",
              "        vertical-align: top;\n",
              "    }\n",
              "\n",
              "    .dataframe thead th {\n",
              "        text-align: right;\n",
              "    }\n",
              "</style>\n",
              "<table border=\"1\" class=\"dataframe\">\n",
              "  <thead>\n",
              "    <tr style=\"text-align: right;\">\n",
              "      <th></th>\n",
              "      <th>The Godfather</th>\n",
              "      <th>Yes Man</th>\n",
              "      <th>Apocalypse Now</th>\n",
              "      <th>Jaws</th>\n",
              "      <th>The Shawshank Redemption</th>\n",
              "      <th>Interstellar</th>\n",
              "      <th>The Green Mile</th>\n",
              "      <th>Finding Nemo</th>\n",
              "      <th>Saving Private Ryan</th>\n",
              "      <th>Forest Gump</th>\n",
              "      <th>Harry Potter</th>\n",
              "      <th>Inception</th>\n",
              "      <th>Goodfellas</th>\n",
              "      <th>Whiplash</th>\n",
              "    </tr>\n",
              "  </thead>\n",
              "  <tbody>\n",
              "    <tr>\n",
              "      <th>User1</th>\n",
              "      <td>5.00</td>\n",
              "      <td>4.29</td>\n",
              "      <td>5.00</td>\n",
              "      <td>1.00</td>\n",
              "      <td>NaN</td>\n",
              "      <td>NaN</td>\n",
              "      <td>NaN</td>\n",
              "      <td>NaN</td>\n",
              "      <td>NaN</td>\n",
              "      <td>NaN</td>\n",
              "      <td>NaN</td>\n",
              "      <td>NaN</td>\n",
              "      <td>NaN</td>\n",
              "      <td>NaN</td>\n",
              "    </tr>\n",
              "    <tr>\n",
              "      <th>User2</th>\n",
              "      <td>1.33</td>\n",
              "      <td>NaN</td>\n",
              "      <td>NaN</td>\n",
              "      <td>NaN</td>\n",
              "      <td>4.89</td>\n",
              "      <td>4.93</td>\n",
              "      <td>4.87</td>\n",
              "      <td>NaN</td>\n",
              "      <td>NaN</td>\n",
              "      <td>NaN</td>\n",
              "      <td>NaN</td>\n",
              "      <td>NaN</td>\n",
              "      <td>NaN</td>\n",
              "      <td>NaN</td>\n",
              "    </tr>\n",
              "    <tr>\n",
              "      <th>User3</th>\n",
              "      <td>1.25</td>\n",
              "      <td>1.72</td>\n",
              "      <td>NaN</td>\n",
              "      <td>4.89</td>\n",
              "      <td>NaN</td>\n",
              "      <td>NaN</td>\n",
              "      <td>NaN</td>\n",
              "      <td>5.0</td>\n",
              "      <td>4.78</td>\n",
              "      <td>4.33</td>\n",
              "      <td>4.77</td>\n",
              "      <td>NaN</td>\n",
              "      <td>NaN</td>\n",
              "      <td>NaN</td>\n",
              "    </tr>\n",
              "    <tr>\n",
              "      <th>User4</th>\n",
              "      <td>NaN</td>\n",
              "      <td>NaN</td>\n",
              "      <td>NaN</td>\n",
              "      <td>NaN</td>\n",
              "      <td>NaN</td>\n",
              "      <td>NaN</td>\n",
              "      <td>NaN</td>\n",
              "      <td>NaN</td>\n",
              "      <td>NaN</td>\n",
              "      <td>5.00</td>\n",
              "      <td>NaN</td>\n",
              "      <td>NaN</td>\n",
              "      <td>NaN</td>\n",
              "      <td>NaN</td>\n",
              "    </tr>\n",
              "    <tr>\n",
              "      <th>User5</th>\n",
              "      <td>4.02</td>\n",
              "      <td>5.00</td>\n",
              "      <td>NaN</td>\n",
              "      <td>NaN</td>\n",
              "      <td>NaN</td>\n",
              "      <td>NaN</td>\n",
              "      <td>NaN</td>\n",
              "      <td>NaN</td>\n",
              "      <td>NaN</td>\n",
              "      <td>NaN</td>\n",
              "      <td>NaN</td>\n",
              "      <td>NaN</td>\n",
              "      <td>NaN</td>\n",
              "      <td>NaN</td>\n",
              "    </tr>\n",
              "    <tr>\n",
              "      <th>User6</th>\n",
              "      <td>3.07</td>\n",
              "      <td>4.29</td>\n",
              "      <td>NaN</td>\n",
              "      <td>NaN</td>\n",
              "      <td>NaN</td>\n",
              "      <td>NaN</td>\n",
              "      <td>NaN</td>\n",
              "      <td>NaN</td>\n",
              "      <td>NaN</td>\n",
              "      <td>NaN</td>\n",
              "      <td>NaN</td>\n",
              "      <td>5.00</td>\n",
              "      <td>4.89</td>\n",
              "      <td>NaN</td>\n",
              "    </tr>\n",
              "    <tr>\n",
              "      <th>User7</th>\n",
              "      <td>3.80</td>\n",
              "      <td>3.61</td>\n",
              "      <td>4.26</td>\n",
              "      <td>NaN</td>\n",
              "      <td>NaN</td>\n",
              "      <td>NaN</td>\n",
              "      <td>NaN</td>\n",
              "      <td>NaN</td>\n",
              "      <td>NaN</td>\n",
              "      <td>NaN</td>\n",
              "      <td>NaN</td>\n",
              "      <td>NaN</td>\n",
              "      <td>NaN</td>\n",
              "      <td>NaN</td>\n",
              "    </tr>\n",
              "    <tr>\n",
              "      <th>User8</th>\n",
              "      <td>2.22</td>\n",
              "      <td>3.34</td>\n",
              "      <td>NaN</td>\n",
              "      <td>NaN</td>\n",
              "      <td>NaN</td>\n",
              "      <td>5.00</td>\n",
              "      <td>NaN</td>\n",
              "      <td>NaN</td>\n",
              "      <td>NaN</td>\n",
              "      <td>NaN</td>\n",
              "      <td>NaN</td>\n",
              "      <td>NaN</td>\n",
              "      <td>NaN</td>\n",
              "      <td>5.00</td>\n",
              "    </tr>\n",
              "    <tr>\n",
              "      <th>User9</th>\n",
              "      <td>1.12</td>\n",
              "      <td>2.16</td>\n",
              "      <td>1.63</td>\n",
              "      <td>NaN</td>\n",
              "      <td>4.98</td>\n",
              "      <td>4.42</td>\n",
              "      <td>NaN</td>\n",
              "      <td>NaN</td>\n",
              "      <td>NaN</td>\n",
              "      <td>NaN</td>\n",
              "      <td>NaN</td>\n",
              "      <td>NaN</td>\n",
              "      <td>NaN</td>\n",
              "      <td>NaN</td>\n",
              "    </tr>\n",
              "    <tr>\n",
              "      <th>User10</th>\n",
              "      <td>NaN</td>\n",
              "      <td>NaN</td>\n",
              "      <td>NaN</td>\n",
              "      <td>NaN</td>\n",
              "      <td>NaN</td>\n",
              "      <td>NaN</td>\n",
              "      <td>NaN</td>\n",
              "      <td>5.0</td>\n",
              "      <td>NaN</td>\n",
              "      <td>4.84</td>\n",
              "      <td>NaN</td>\n",
              "      <td>NaN</td>\n",
              "      <td>NaN</td>\n",
              "      <td>NaN</td>\n",
              "    </tr>\n",
              "    <tr>\n",
              "      <th>User11</th>\n",
              "      <td>1.04</td>\n",
              "      <td>1.03</td>\n",
              "      <td>NaN</td>\n",
              "      <td>NaN</td>\n",
              "      <td>NaN</td>\n",
              "      <td>NaN</td>\n",
              "      <td>4.96</td>\n",
              "      <td>NaN</td>\n",
              "      <td>3.78</td>\n",
              "      <td>NaN</td>\n",
              "      <td>NaN</td>\n",
              "      <td>NaN</td>\n",
              "      <td>NaN</td>\n",
              "      <td>NaN</td>\n",
              "    </tr>\n",
              "    <tr>\n",
              "      <th>User12</th>\n",
              "      <td>5.00</td>\n",
              "      <td>5.00</td>\n",
              "      <td>NaN</td>\n",
              "      <td>1.24</td>\n",
              "      <td>NaN</td>\n",
              "      <td>NaN</td>\n",
              "      <td>NaN</td>\n",
              "      <td>NaN</td>\n",
              "      <td>NaN</td>\n",
              "      <td>NaN</td>\n",
              "      <td>NaN</td>\n",
              "      <td>NaN</td>\n",
              "      <td>NaN</td>\n",
              "      <td>2.02</td>\n",
              "    </tr>\n",
              "    <tr>\n",
              "      <th>User13</th>\n",
              "      <td>4.00</td>\n",
              "      <td>NaN</td>\n",
              "      <td>NaN</td>\n",
              "      <td>NaN</td>\n",
              "      <td>NaN</td>\n",
              "      <td>NaN</td>\n",
              "      <td>NaN</td>\n",
              "      <td>NaN</td>\n",
              "      <td>NaN</td>\n",
              "      <td>NaN</td>\n",
              "      <td>1.14</td>\n",
              "      <td>5.00</td>\n",
              "      <td>4.87</td>\n",
              "      <td>NaN</td>\n",
              "    </tr>\n",
              "    <tr>\n",
              "      <th>User14</th>\n",
              "      <td>2.98</td>\n",
              "      <td>3.93</td>\n",
              "      <td>NaN</td>\n",
              "      <td>NaN</td>\n",
              "      <td>NaN</td>\n",
              "      <td>NaN</td>\n",
              "      <td>NaN</td>\n",
              "      <td>NaN</td>\n",
              "      <td>NaN</td>\n",
              "      <td>NaN</td>\n",
              "      <td>1.37</td>\n",
              "      <td>NaN</td>\n",
              "      <td>NaN</td>\n",
              "      <td>NaN</td>\n",
              "    </tr>\n",
              "    <tr>\n",
              "      <th>User15</th>\n",
              "      <td>1.07</td>\n",
              "      <td>0.63</td>\n",
              "      <td>NaN</td>\n",
              "      <td>5.00</td>\n",
              "      <td>NaN</td>\n",
              "      <td>NaN</td>\n",
              "      <td>NaN</td>\n",
              "      <td>NaN</td>\n",
              "      <td>NaN</td>\n",
              "      <td>NaN</td>\n",
              "      <td>5.00</td>\n",
              "      <td>NaN</td>\n",
              "      <td>NaN</td>\n",
              "      <td>NaN</td>\n",
              "    </tr>\n",
              "    <tr>\n",
              "      <th>User16</th>\n",
              "      <td>4.87</td>\n",
              "      <td>NaN</td>\n",
              "      <td>NaN</td>\n",
              "      <td>NaN</td>\n",
              "      <td>NaN</td>\n",
              "      <td>NaN</td>\n",
              "      <td>NaN</td>\n",
              "      <td>NaN</td>\n",
              "      <td>NaN</td>\n",
              "      <td>1.32</td>\n",
              "      <td>NaN</td>\n",
              "      <td>4.89</td>\n",
              "      <td>5.00</td>\n",
              "      <td>NaN</td>\n",
              "    </tr>\n",
              "  </tbody>\n",
              "</table>\n",
              "</div>"
            ],
            "text/plain": [
              "        The Godfather  Yes Man  Apocalypse Now  ...  Inception  Goodfellas  Whiplash\n",
              "User1            5.00     4.29            5.00  ...        NaN         NaN       NaN\n",
              "User2            1.33      NaN             NaN  ...        NaN         NaN       NaN\n",
              "User3            1.25     1.72             NaN  ...        NaN         NaN       NaN\n",
              "User4             NaN      NaN             NaN  ...        NaN         NaN       NaN\n",
              "User5            4.02     5.00             NaN  ...        NaN         NaN       NaN\n",
              "User6            3.07     4.29             NaN  ...       5.00        4.89       NaN\n",
              "User7            3.80     3.61            4.26  ...        NaN         NaN       NaN\n",
              "User8            2.22     3.34             NaN  ...        NaN         NaN      5.00\n",
              "User9            1.12     2.16            1.63  ...        NaN         NaN       NaN\n",
              "User10            NaN      NaN             NaN  ...        NaN         NaN       NaN\n",
              "User11           1.04     1.03             NaN  ...        NaN         NaN       NaN\n",
              "User12           5.00     5.00             NaN  ...        NaN         NaN      2.02\n",
              "User13           4.00      NaN             NaN  ...       5.00        4.87       NaN\n",
              "User14           2.98     3.93             NaN  ...        NaN         NaN       NaN\n",
              "User15           1.07     0.63             NaN  ...        NaN         NaN       NaN\n",
              "User16           4.87      NaN             NaN  ...       4.89        5.00       NaN\n",
              "\n",
              "[16 rows x 14 columns]"
            ]
          },
          "metadata": {
            "tags": []
          },
          "execution_count": 35
        }
      ]
    },
    {
      "cell_type": "code",
      "metadata": {
        "id": "yOTFw38DRx-u"
      },
      "source": [
        "def get_user_similar_movies(user1,user2):\n",
        "  common_movies = \n"
      ],
      "execution_count": null,
      "outputs": []
    },
    {
      "cell_type": "code",
      "metadata": {
        "id": "GQiToluamA2v"
      },
      "source": [
        "def user_item_score(user,item,no_neighbour):\n",
        "  sim_user=find_neighbours(sim_movie,no_neighbour)\n",
        "  a = sim_user[sim_user.index==user].values\n",
        "  b = a.squeeze().tolist()\n",
        "  print(b)\n",
        "  c = final_movie.loc[:,item]\n",
        "  d = c[c.index.isin(b)]\n",
        "  f = d[d.notnull()]\n",
        "  #average user ratings\n",
        "  avg_rat_user=data.mean(axis=1)\n",
        "  avg_user = avg_rat_user.loc[avg_rat_user['']]"
      ],
      "execution_count": null,
      "outputs": []
    },
    {
      "cell_type": "code",
      "metadata": {
        "colab": {
          "base_uri": "https://localhost:8080/"
        },
        "id": "jXptzcDunTmm",
        "outputId": "61325f4e-4e22-4e37-8ce5-0f765b493064"
      },
      "source": [
        "final_movie.iloc[0].squeeze().tolist()"
      ],
      "execution_count": null,
      "outputs": [
        {
          "output_type": "execute_result",
          "data": {
            "text/plain": [
              "[1.1775000000000002,\n",
              " 0.46750000000000025,\n",
              " 1.1775000000000002,\n",
              " -2.8225,\n",
              " 1.5015,\n",
              " 1.1976666666666664,\n",
              " 1.56125,\n",
              " 0.6300000000000001,\n",
              " 1.01875,\n",
              " -0.5674999999999998,\n",
              " -0.24437500000000023,\n",
              " 0.9349999999999999,\n",
              " 0.8916666666666666,\n",
              " -0.09250000000000003]"
            ]
          },
          "metadata": {
            "tags": []
          },
          "execution_count": 49
        }
      ]
    },
    {
      "cell_type": "code",
      "metadata": {
        "colab": {
          "base_uri": "https://localhost:8080/",
          "height": 131
        },
        "id": "WJz-1dz-nVl_",
        "outputId": "dbc0171c-4518-4d20-a071-bd15baa6a97d"
      },
      "source": [
        "data.mean(axis=1).loc[]"
      ],
      "execution_count": null,
      "outputs": [
        {
          "output_type": "error",
          "ename": "SyntaxError",
          "evalue": "ignored",
          "traceback": [
            "\u001b[0;36m  File \u001b[0;32m\"<ipython-input-52-d29ce605f78f>\"\u001b[0;36m, line \u001b[0;32m1\u001b[0m\n\u001b[0;31m    data.mean(axis=1).loc[]\u001b[0m\n\u001b[0m                          ^\u001b[0m\n\u001b[0;31mSyntaxError\u001b[0m\u001b[0;31m:\u001b[0m invalid syntax\n"
          ]
        }
      ]
    },
    {
      "cell_type": "code",
      "metadata": {
        "id": "3bRuYTMepHwM"
      },
      "source": [
        ""
      ],
      "execution_count": null,
      "outputs": []
    },
    {
      "cell_type": "markdown",
      "metadata": {
        "id": "W1wgpqre8I9-"
      },
      "source": [
        "#CLEANED"
      ]
    },
    {
      "cell_type": "code",
      "metadata": {
        "id": "M_oJxFb88gAm"
      },
      "source": [
        " import math\n",
        " import operator\n",
        " import pandas as pd\n",
        " import numpy as np"
      ],
      "execution_count": 1,
      "outputs": []
    },
    {
      "cell_type": "code",
      "metadata": {
        "colab": {
          "base_uri": "https://localhost:8080/"
        },
        "id": "gS0ilLs34qI4",
        "outputId": "09c8b323-6664-429a-e204-bab104bf8fe8"
      },
      "source": [
        "from google.colab import drive\n",
        "drive.mount('/content/drive')"
      ],
      "execution_count": 4,
      "outputs": [
        {
          "output_type": "stream",
          "text": [
            "Mounted at /content/drive\n"
          ],
          "name": "stdout"
        }
      ]
    },
    {
      "cell_type": "code",
      "metadata": {
        "id": "AuiySHcD8H_J",
        "colab": {
          "base_uri": "https://localhost:8080/",
          "height": 376
        },
        "outputId": "a3f77d50-965f-4c99-db95-8c495bb34128"
      },
      "source": [
        "\n",
        "movies = pd.read_csv(\"movies1.csv\",encoding=\"Latin1\")\n",
        "Ratings = pd.read_csv(\"ratings1.csv\")\n",
        "\n",
        "Mean = Ratings.groupby(by=\"userId\",as_index=False)['rating'].mean()\n",
        "Rating_avg = pd.merge(Ratings,Mean,on='userId')\n",
        "Rating_avg['adg_rating']=Rating_avg['rating_x']-Rating_avg['rating_y']\n",
        "Rating_avg.head()\n",
        "\n",
        "final = pd.pivot_table(Rating_avg,values='adg_rating',index='userId',columns='movieId')\n",
        "\n",
        "# Replacing NaN by Movie Average\n",
        "final_movie = final.fillna(final.mean(axis=0))\n",
        "\n",
        "# Replacing NaN by user Average\n",
        "final_user = final.apply(lambda row: row.fillna(row.mean()), axis=1)\n",
        "\n",
        "# user similarity on replacing NAN by user avg\n",
        "b = cosine_similarity(final_user)\n",
        "np.fill_diagonal(b, 0 )\n",
        "similarity_with_user = pd.DataFrame(b,index=final_user.index)\n",
        "similarity_with_user.columns=final_user.index\n",
        "\n",
        "# user similarity on replacing NAN by item(movie) avg\n",
        "cosine = cosine_similarity(final_movie)\n",
        "np.fill_diagonal(cosine, 0 )\n",
        "similarity_with_movie = pd.DataFrame(cosine,index=final_movie.index)\n",
        "similarity_with_movie.columns=final_user.index\n",
        "similarity_with_movie.head()\n",
        "\n",
        "def find_neighbours(data,n):\n",
        "    order = np.argsort(data.values, axis=1)[:, :n]\n",
        "    df = data.apply(lambda x: pd.Series(x.sort_values(ascending=False).iloc[:n].index,index=['Top{}'.format(i) for i in range(1, n+1)]), axis=1)\n",
        "    return df\n",
        "\n",
        "def User_item_score(user,item,no):\n",
        "    sim  = find_neighbours(similarity_with_movie,no)\n",
        "    a = sim[sim.index==user].values\n",
        "    b = a.squeeze().tolist() \n",
        "    c = final_movie.loc[:,item]\n",
        "    d = c[c.index.isin(b)]\n",
        "    f = d[d.notnull()]\n",
        "    avg_user = Mean.loc[Mean['userId'] == user,'rating'].values[0]\n",
        "    index = f.index.values.squeeze().tolist()\n",
        "    corr = similarity_with_movie.loc[user,index]\n",
        "    fin = pd.concat([f, corr], axis=1)\n",
        "    fin.columns = ['adg_score','correlation']\n",
        "    fin['score']=fin.apply(lambda x:x['adg_score'] * x['correlation'],axis=1)\n",
        "    nume = fin['score'].sum()\n",
        "    deno = fin['correlation'].sum()\n",
        "    final_score = avg_user + (nume/deno)\n",
        "    return final_score\n",
        "\n",
        "def get_user_similar_movies( user1, user2 ):\n",
        "    common_movies = Rating_avg[Rating_avg.userId == user1].merge(\n",
        "    Rating_avg[Rating_avg.userId == user2],\n",
        "    on = \"movieId\",\n",
        "    how = \"inner\" )\n",
        "    return common_movies.merge( movies, on = 'movieId' )\n",
        "\n",
        "def User_item_score1(user):\n",
        "    Movie_seen_by_user = check.columns[check[check.index==user].notna().any()].tolist()\n",
        "    similar_users=find_neighbours(similarity_with_movie,10) #find 10 similar users\n",
        "    a = similar_users[similar_users.index==user].values \n",
        "    b = a.squeeze().tolist() #list of similar users\n",
        "    d = Movie_user[Movie_user.index.isin(b)] #extract similar users' ratings\n",
        "    l = ','.join(d.values)\n",
        "    Movie_seen_by_similar_users = l.split(',')\n",
        "    #Movies similars watched - movies watched by the user\n",
        "    Movies_under_consideration = list(set(Movie_seen_by_similar_users)-set(list(map(str, Movie_seen_by_user))))\n",
        "    Movies_under_consideration = list(map(int, Movies_under_consideration))\n",
        "    score = []\n",
        "    for item in Movies_under_consideration:\n",
        "        c = final_movie.loc[:,item]\n",
        "        d = c[c.index.isin(b)] #extracting final_movie values for similar users\n",
        "        f = d[d.notnull()]\n",
        "        avg_user = Mean.loc[Mean['userId'] == user,'rating'].values[0]\n",
        "        index = f.index.values.squeeze().tolist()\n",
        "        corr = similarity_with_movie.loc[user,index]\n",
        "        fin = pd.concat([f, corr], axis=1)\n",
        "        fin.columns = ['adg_score','correlation']\n",
        "        fin['score']=fin.apply(lambda x:x['adg_score'] * x['correlation'],axis=1)\n",
        "        nume = fin['score'].sum()\n",
        "        deno = fin['correlation'].sum()\n",
        "        final_score = avg_user + (nume/deno)\n",
        "        score.append(final_score)\n",
        "    data = pd.DataFrame({'movieId':Movies_under_consideration,'score':score})\n",
        "    top_5_recommendation = data.sort_values(by='score',ascending=False).head(5)\n",
        "    Movie_Name = top_5_recommendation.merge(movies, how='inner', on='movieId')\n",
        "    Movie_Names = Movie_Name.title.values.tolist()\n",
        "    Movie_rat = Movie_Name.score.values.tolist()\n",
        "    return Movie_Name"
      ],
      "execution_count": 3,
      "outputs": [
        {
          "output_type": "error",
          "ename": "FileNotFoundError",
          "evalue": "ignored",
          "traceback": [
            "\u001b[0;31m---------------------------------------------------------------------------\u001b[0m",
            "\u001b[0;31mFileNotFoundError\u001b[0m                         Traceback (most recent call last)",
            "\u001b[0;32m<ipython-input-3-7c19a7b7cb36>\u001b[0m in \u001b[0;36m<module>\u001b[0;34m()\u001b[0m\n\u001b[0;32m----> 1\u001b[0;31m \u001b[0mmovies\u001b[0m \u001b[0;34m=\u001b[0m \u001b[0mpd\u001b[0m\u001b[0;34m.\u001b[0m\u001b[0mread_csv\u001b[0m\u001b[0;34m(\u001b[0m\u001b[0;34m\"movies1.csv\"\u001b[0m\u001b[0;34m,\u001b[0m\u001b[0mencoding\u001b[0m\u001b[0;34m=\u001b[0m\u001b[0;34m\"Latin1\"\u001b[0m\u001b[0;34m)\u001b[0m\u001b[0;34m\u001b[0m\u001b[0;34m\u001b[0m\u001b[0m\n\u001b[0m\u001b[1;32m      2\u001b[0m \u001b[0mRatings\u001b[0m \u001b[0;34m=\u001b[0m \u001b[0mpd\u001b[0m\u001b[0;34m.\u001b[0m\u001b[0mread_csv\u001b[0m\u001b[0;34m(\u001b[0m\u001b[0;34m\"ratings1.csv\"\u001b[0m\u001b[0;34m)\u001b[0m\u001b[0;34m\u001b[0m\u001b[0;34m\u001b[0m\u001b[0m\n\u001b[1;32m      3\u001b[0m \u001b[0;34m\u001b[0m\u001b[0m\n\u001b[1;32m      4\u001b[0m \u001b[0mMean\u001b[0m \u001b[0;34m=\u001b[0m \u001b[0mRatings\u001b[0m\u001b[0;34m.\u001b[0m\u001b[0mgroupby\u001b[0m\u001b[0;34m(\u001b[0m\u001b[0mby\u001b[0m\u001b[0;34m=\u001b[0m\u001b[0;34m\"userId\"\u001b[0m\u001b[0;34m,\u001b[0m\u001b[0mas_index\u001b[0m\u001b[0;34m=\u001b[0m\u001b[0;32mFalse\u001b[0m\u001b[0;34m)\u001b[0m\u001b[0;34m[\u001b[0m\u001b[0;34m'rating'\u001b[0m\u001b[0;34m]\u001b[0m\u001b[0;34m.\u001b[0m\u001b[0mmean\u001b[0m\u001b[0;34m(\u001b[0m\u001b[0;34m)\u001b[0m\u001b[0;34m\u001b[0m\u001b[0;34m\u001b[0m\u001b[0m\n\u001b[1;32m      5\u001b[0m \u001b[0mRating_avg\u001b[0m \u001b[0;34m=\u001b[0m \u001b[0mpd\u001b[0m\u001b[0;34m.\u001b[0m\u001b[0mmerge\u001b[0m\u001b[0;34m(\u001b[0m\u001b[0mRatings\u001b[0m\u001b[0;34m,\u001b[0m\u001b[0mMean\u001b[0m\u001b[0;34m,\u001b[0m\u001b[0mon\u001b[0m\u001b[0;34m=\u001b[0m\u001b[0;34m'userId'\u001b[0m\u001b[0;34m)\u001b[0m\u001b[0;34m\u001b[0m\u001b[0;34m\u001b[0m\u001b[0m\n",
            "\u001b[0;32m/usr/local/lib/python3.6/dist-packages/pandas/io/parsers.py\u001b[0m in \u001b[0;36mread_csv\u001b[0;34m(filepath_or_buffer, sep, delimiter, header, names, index_col, usecols, squeeze, prefix, mangle_dupe_cols, dtype, engine, converters, true_values, false_values, skipinitialspace, skiprows, skipfooter, nrows, na_values, keep_default_na, na_filter, verbose, skip_blank_lines, parse_dates, infer_datetime_format, keep_date_col, date_parser, dayfirst, cache_dates, iterator, chunksize, compression, thousands, decimal, lineterminator, quotechar, quoting, doublequote, escapechar, comment, encoding, dialect, error_bad_lines, warn_bad_lines, delim_whitespace, low_memory, memory_map, float_precision)\u001b[0m\n\u001b[1;32m    686\u001b[0m     )\n\u001b[1;32m    687\u001b[0m \u001b[0;34m\u001b[0m\u001b[0m\n\u001b[0;32m--> 688\u001b[0;31m     \u001b[0;32mreturn\u001b[0m \u001b[0m_read\u001b[0m\u001b[0;34m(\u001b[0m\u001b[0mfilepath_or_buffer\u001b[0m\u001b[0;34m,\u001b[0m \u001b[0mkwds\u001b[0m\u001b[0;34m)\u001b[0m\u001b[0;34m\u001b[0m\u001b[0;34m\u001b[0m\u001b[0m\n\u001b[0m\u001b[1;32m    689\u001b[0m \u001b[0;34m\u001b[0m\u001b[0m\n\u001b[1;32m    690\u001b[0m \u001b[0;34m\u001b[0m\u001b[0m\n",
            "\u001b[0;32m/usr/local/lib/python3.6/dist-packages/pandas/io/parsers.py\u001b[0m in \u001b[0;36m_read\u001b[0;34m(filepath_or_buffer, kwds)\u001b[0m\n\u001b[1;32m    452\u001b[0m \u001b[0;34m\u001b[0m\u001b[0m\n\u001b[1;32m    453\u001b[0m     \u001b[0;31m# Create the parser.\u001b[0m\u001b[0;34m\u001b[0m\u001b[0;34m\u001b[0m\u001b[0;34m\u001b[0m\u001b[0m\n\u001b[0;32m--> 454\u001b[0;31m     \u001b[0mparser\u001b[0m \u001b[0;34m=\u001b[0m \u001b[0mTextFileReader\u001b[0m\u001b[0;34m(\u001b[0m\u001b[0mfp_or_buf\u001b[0m\u001b[0;34m,\u001b[0m \u001b[0;34m**\u001b[0m\u001b[0mkwds\u001b[0m\u001b[0;34m)\u001b[0m\u001b[0;34m\u001b[0m\u001b[0;34m\u001b[0m\u001b[0m\n\u001b[0m\u001b[1;32m    455\u001b[0m \u001b[0;34m\u001b[0m\u001b[0m\n\u001b[1;32m    456\u001b[0m     \u001b[0;32mif\u001b[0m \u001b[0mchunksize\u001b[0m \u001b[0;32mor\u001b[0m \u001b[0miterator\u001b[0m\u001b[0;34m:\u001b[0m\u001b[0;34m\u001b[0m\u001b[0;34m\u001b[0m\u001b[0m\n",
            "\u001b[0;32m/usr/local/lib/python3.6/dist-packages/pandas/io/parsers.py\u001b[0m in \u001b[0;36m__init__\u001b[0;34m(self, f, engine, **kwds)\u001b[0m\n\u001b[1;32m    946\u001b[0m             \u001b[0mself\u001b[0m\u001b[0;34m.\u001b[0m\u001b[0moptions\u001b[0m\u001b[0;34m[\u001b[0m\u001b[0;34m\"has_index_names\"\u001b[0m\u001b[0;34m]\u001b[0m \u001b[0;34m=\u001b[0m \u001b[0mkwds\u001b[0m\u001b[0;34m[\u001b[0m\u001b[0;34m\"has_index_names\"\u001b[0m\u001b[0;34m]\u001b[0m\u001b[0;34m\u001b[0m\u001b[0;34m\u001b[0m\u001b[0m\n\u001b[1;32m    947\u001b[0m \u001b[0;34m\u001b[0m\u001b[0m\n\u001b[0;32m--> 948\u001b[0;31m         \u001b[0mself\u001b[0m\u001b[0;34m.\u001b[0m\u001b[0m_make_engine\u001b[0m\u001b[0;34m(\u001b[0m\u001b[0mself\u001b[0m\u001b[0;34m.\u001b[0m\u001b[0mengine\u001b[0m\u001b[0;34m)\u001b[0m\u001b[0;34m\u001b[0m\u001b[0;34m\u001b[0m\u001b[0m\n\u001b[0m\u001b[1;32m    949\u001b[0m \u001b[0;34m\u001b[0m\u001b[0m\n\u001b[1;32m    950\u001b[0m     \u001b[0;32mdef\u001b[0m \u001b[0mclose\u001b[0m\u001b[0;34m(\u001b[0m\u001b[0mself\u001b[0m\u001b[0;34m)\u001b[0m\u001b[0;34m:\u001b[0m\u001b[0;34m\u001b[0m\u001b[0;34m\u001b[0m\u001b[0m\n",
            "\u001b[0;32m/usr/local/lib/python3.6/dist-packages/pandas/io/parsers.py\u001b[0m in \u001b[0;36m_make_engine\u001b[0;34m(self, engine)\u001b[0m\n\u001b[1;32m   1178\u001b[0m     \u001b[0;32mdef\u001b[0m \u001b[0m_make_engine\u001b[0m\u001b[0;34m(\u001b[0m\u001b[0mself\u001b[0m\u001b[0;34m,\u001b[0m \u001b[0mengine\u001b[0m\u001b[0;34m=\u001b[0m\u001b[0;34m\"c\"\u001b[0m\u001b[0;34m)\u001b[0m\u001b[0;34m:\u001b[0m\u001b[0;34m\u001b[0m\u001b[0;34m\u001b[0m\u001b[0m\n\u001b[1;32m   1179\u001b[0m         \u001b[0;32mif\u001b[0m \u001b[0mengine\u001b[0m \u001b[0;34m==\u001b[0m \u001b[0;34m\"c\"\u001b[0m\u001b[0;34m:\u001b[0m\u001b[0;34m\u001b[0m\u001b[0;34m\u001b[0m\u001b[0m\n\u001b[0;32m-> 1180\u001b[0;31m             \u001b[0mself\u001b[0m\u001b[0;34m.\u001b[0m\u001b[0m_engine\u001b[0m \u001b[0;34m=\u001b[0m \u001b[0mCParserWrapper\u001b[0m\u001b[0;34m(\u001b[0m\u001b[0mself\u001b[0m\u001b[0;34m.\u001b[0m\u001b[0mf\u001b[0m\u001b[0;34m,\u001b[0m \u001b[0;34m**\u001b[0m\u001b[0mself\u001b[0m\u001b[0;34m.\u001b[0m\u001b[0moptions\u001b[0m\u001b[0;34m)\u001b[0m\u001b[0;34m\u001b[0m\u001b[0;34m\u001b[0m\u001b[0m\n\u001b[0m\u001b[1;32m   1181\u001b[0m         \u001b[0;32melse\u001b[0m\u001b[0;34m:\u001b[0m\u001b[0;34m\u001b[0m\u001b[0;34m\u001b[0m\u001b[0m\n\u001b[1;32m   1182\u001b[0m             \u001b[0;32mif\u001b[0m \u001b[0mengine\u001b[0m \u001b[0;34m==\u001b[0m \u001b[0;34m\"python\"\u001b[0m\u001b[0;34m:\u001b[0m\u001b[0;34m\u001b[0m\u001b[0;34m\u001b[0m\u001b[0m\n",
            "\u001b[0;32m/usr/local/lib/python3.6/dist-packages/pandas/io/parsers.py\u001b[0m in \u001b[0;36m__init__\u001b[0;34m(self, src, **kwds)\u001b[0m\n\u001b[1;32m   1991\u001b[0m         \u001b[0;32mif\u001b[0m \u001b[0mkwds\u001b[0m\u001b[0;34m.\u001b[0m\u001b[0mget\u001b[0m\u001b[0;34m(\u001b[0m\u001b[0;34m\"compression\"\u001b[0m\u001b[0;34m)\u001b[0m \u001b[0;32mis\u001b[0m \u001b[0;32mNone\u001b[0m \u001b[0;32mand\u001b[0m \u001b[0mencoding\u001b[0m\u001b[0;34m:\u001b[0m\u001b[0;34m\u001b[0m\u001b[0;34m\u001b[0m\u001b[0m\n\u001b[1;32m   1992\u001b[0m             \u001b[0;32mif\u001b[0m \u001b[0misinstance\u001b[0m\u001b[0;34m(\u001b[0m\u001b[0msrc\u001b[0m\u001b[0;34m,\u001b[0m \u001b[0mstr\u001b[0m\u001b[0;34m)\u001b[0m\u001b[0;34m:\u001b[0m\u001b[0;34m\u001b[0m\u001b[0;34m\u001b[0m\u001b[0m\n\u001b[0;32m-> 1993\u001b[0;31m                 \u001b[0msrc\u001b[0m \u001b[0;34m=\u001b[0m \u001b[0mopen\u001b[0m\u001b[0;34m(\u001b[0m\u001b[0msrc\u001b[0m\u001b[0;34m,\u001b[0m \u001b[0;34m\"rb\"\u001b[0m\u001b[0;34m)\u001b[0m\u001b[0;34m\u001b[0m\u001b[0;34m\u001b[0m\u001b[0m\n\u001b[0m\u001b[1;32m   1994\u001b[0m                 \u001b[0mself\u001b[0m\u001b[0;34m.\u001b[0m\u001b[0mhandles\u001b[0m\u001b[0;34m.\u001b[0m\u001b[0mappend\u001b[0m\u001b[0;34m(\u001b[0m\u001b[0msrc\u001b[0m\u001b[0;34m)\u001b[0m\u001b[0;34m\u001b[0m\u001b[0;34m\u001b[0m\u001b[0m\n\u001b[1;32m   1995\u001b[0m \u001b[0;34m\u001b[0m\u001b[0m\n",
            "\u001b[0;31mFileNotFoundError\u001b[0m: [Errno 2] No such file or directory: 'movies1.csv'"
          ]
        }
      ]
    },
    {
      "cell_type": "code",
      "metadata": {
        "id": "H8XLxAaeAhwe"
      },
      "source": [
        "    Movie_seen_by_user = check.columns[check[check.index==5].notna().any()].tolist()\n",
        "    sim_user  = find_neighbours(similarity_with_movie,5)\n",
        "    a = sim_user[sim_user.index==5].values #most similar with user xth\n",
        "    b = a.squeeze().tolist()\n",
        "    d = Movie_user[Movie_user.index.isin(b)] #movies watched by most similar ones\n",
        "    l = ','.join(d.values)\n",
        "    Movie_seen_by_similar_users = l.split(',')"
      ],
      "execution_count": null,
      "outputs": []
    },
    {
      "cell_type": "code",
      "metadata": {
        "id": "yk3bXxYKDNaa"
      },
      "source": [
        "Movies_under_consideration = list(set(Movie_seen_by_similar_users)-set(list(map(str, Movie_seen_by_user))))\n",
        "#Movies_under_consideration = list(map(int, Movies_under_consideration))\n",
        "Movies_under_consideration"
      ],
      "execution_count": null,
      "outputs": []
    },
    {
      "cell_type": "code",
      "metadata": {
        "id": "bKjpCkwpD2dm"
      },
      "source": [
        "c=final_movie.loc[:,4]\n",
        "d=c[c.index.isin(b)]\n",
        "f=d[d.notnull()]\n",
        "f"
      ],
      "execution_count": null,
      "outputs": []
    },
    {
      "cell_type": "code",
      "metadata": {
        "id": "KDviOYY3ED0a"
      },
      "source": [
        "Movie_user[Movie_user.index.isin(b)]"
      ],
      "execution_count": null,
      "outputs": []
    },
    {
      "cell_type": "code",
      "metadata": {
        "id": "bvEf1Nw5AEE2"
      },
      "source": [
        "user = int(input(\"Enter the user id to whom you want to recommend : \"))\n",
        "predicted_movies = User_item_score1(user)\n",
        "print(\" \")\n",
        "print(\"The Recommendations for User Id :\"+str(user))\n",
        "print(\"   \")\n",
        "#for i,j in predicted_movies:\n",
        "    #print(i,j) "
      ],
      "execution_count": null,
      "outputs": []
    },
    {
      "cell_type": "code",
      "metadata": {
        "id": "vt6tknA8AhB0"
      },
      "source": [
        "print(predicted_movies)"
      ],
      "execution_count": null,
      "outputs": []
    },
    {
      "cell_type": "code",
      "metadata": {
        "id": "jCrGGJBGA7bi"
      },
      "source": [
        "np.shape(predicted_movies)[0]"
      ],
      "execution_count": null,
      "outputs": []
    },
    {
      "cell_type": "code",
      "metadata": {
        "id": "gtEfg5FwBUxb"
      },
      "source": [
        "for i in range(np.shape(predicted_movies)[0]):\n",
        "  print(str(predicted_movies['title'][i]) + '\\t' + str(predicted_movies['score'][i]))"
      ],
      "execution_count": null,
      "outputs": []
    },
    {
      "cell_type": "code",
      "metadata": {
        "colab": {
          "base_uri": "https://localhost:8080/"
        },
        "id": "E1ls8x1YLjQ-",
        "outputId": "d824e521-a2ec-4462-eb39-b617855c3f0c"
      },
      "source": [
        "for i in range(5):\n",
        "  print(i)"
      ],
      "execution_count": null,
      "outputs": [
        {
          "output_type": "stream",
          "text": [
            "0\n",
            "1\n",
            "2\n",
            "3\n",
            "4\n"
          ],
          "name": "stdout"
        }
      ]
    },
    {
      "cell_type": "code",
      "metadata": {
        "colab": {
          "base_uri": "https://localhost:8080/"
        },
        "id": "bDfUJDDOL10D",
        "outputId": "47425eaa-a9bd-4a65-d609-7520b0723613"
      },
      "source": [
        "np.shape(predicted_movies)[0]"
      ],
      "execution_count": null,
      "outputs": [
        {
          "output_type": "execute_result",
          "data": {
            "text/plain": [
              "5"
            ]
          },
          "metadata": {
            "tags": []
          },
          "execution_count": 268
        }
      ]
    },
    {
      "cell_type": "code",
      "metadata": {
        "id": "mo6f-6yWL5gx"
      },
      "source": [
        ""
      ],
      "execution_count": null,
      "outputs": []
    }
  ]
}